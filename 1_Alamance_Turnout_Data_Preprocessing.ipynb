{
 "cells": [
  {
   "cell_type": "markdown",
   "id": "95a8cf1f",
   "metadata": {},
   "source": [
    "## Data Cleaning and Preprocessing for creating turnout model for Alamance County, NC"
   ]
  },
  {
   "cell_type": "code",
   "execution_count": 13,
   "id": "e65b618b",
   "metadata": {},
   "outputs": [],
   "source": [
    "# written by @caramnix 12.27.24 \n",
    "# goal: Data cleaning/preprocessing"
   ]
  },
  {
   "cell_type": "code",
   "execution_count": 14,
   "id": "6c80b986",
   "metadata": {},
   "outputs": [],
   "source": [
    "# imports\n",
    "import pandas as pd\n",
    "import numpy as np \n",
    "import os"
   ]
  },
  {
   "cell_type": "code",
   "execution_count": 31,
   "id": "7352fafe",
   "metadata": {},
   "outputs": [],
   "source": [
    "os.chdir(\"/Users/caranix/Documents/GitHub/AlamanceTurnout/\")"
   ]
  },
  {
   "cell_type": "markdown",
   "id": "bfe61d05",
   "metadata": {},
   "source": [
    "## Cut voter files to Alamance County"
   ]
  },
  {
   "cell_type": "code",
   "execution_count": null,
   "id": "30a51d78",
   "metadata": {},
   "outputs": [],
   "source": [
    "# read in voter files (~12GB) and cut to only voters in Alamance county \n",
    "data2016 = pd.read_csv('/Users/caranix/Documents/GitHub/AlamanceTurnout/VR_Snapshot_20161108.txt', sep='\\t', encoding = \"utf-16\", on_bad_lines='warn')\n",
    "data2020 = pd.read_csv('/Users/caranix/Documents/GitHub/AlamanceTurnout/VR_Snapshot_20201103.txt', sep='\\t', encoding = \"utf-16\", on_bad_lines='warn')\n"
   ]
  },
  {
   "cell_type": "code",
   "execution_count": 18,
   "id": "0f83d51e",
   "metadata": {},
   "outputs": [],
   "source": [
    "alamance2016 = data2016[data2016[\"county_id\"] ==1]\n",
    "alamance2020 = data2020[data2020[\"county_id\"] ==1]"
   ]
  },
  {
   "cell_type": "code",
   "execution_count": 19,
   "id": "ad24bfa2",
   "metadata": {},
   "outputs": [],
   "source": [
    "alamance2016.to_csv('NC_Voterfiles_Alamance/VR_Snapshot_20161108.csv', index=False)\n",
    "alamance2020.to_csv('NC_Voterfiles_Alamance/VR_Snapshot_20201103.csv', index=False)"
   ]
  },
  {
   "cell_type": "code",
   "execution_count": 26,
   "id": "74ef63a8",
   "metadata": {},
   "outputs": [
    {
     "name": "stderr",
     "output_type": "stream",
     "text": [
      "/var/folders/09/l3m63nj90fg1l2jshjp_hd5w0000gn/T/ipykernel_3390/2882072387.py:3: DtypeWarning: Columns (25,27,28,29) have mixed types. Specify dtype option on import or set low_memory=False.\n",
      "  vf_2016= pd.read_csv(\"VR_Snapshot_20161108.csv\")\n"
     ]
    }
   ],
   "source": [
    "# read in Alamance data from 2016 -- voter file \n",
    "\n",
    "vf_2016= pd.read_csv(\"VR_Snapshot_20161108.csv\")"
   ]
  },
  {
   "cell_type": "code",
   "execution_count": 28,
   "id": "b7f7e35c",
   "metadata": {},
   "outputs": [
    {
     "data": {
      "text/plain": [
       "(213664, 90)"
      ]
     },
     "execution_count": 28,
     "metadata": {},
     "output_type": "execute_result"
    }
   ],
   "source": [
    "vf_2016.shape \n",
    "# 213,664 people on file "
   ]
  },
  {
   "cell_type": "code",
   "execution_count": 27,
   "id": "4bbb10e2",
   "metadata": {},
   "outputs": [
    {
     "data": {
      "text/plain": [
       "array(['ACTIVE', 'DENIED', 'INACTIVE', 'REMOVED', 'TEMPORARY'],\n",
       "      dtype=object)"
      ]
     },
     "execution_count": 27,
     "metadata": {},
     "output_type": "execute_result"
    }
   ],
   "source": [
    "# Appears as if inactive/removed folks are on voter file, will remove them for modeling since they will not \n",
    "# turnout if voter reg status is not active \n",
    "np.unique(vf_2016['voter_status_desc'])"
   ]
  },
  {
   "cell_type": "code",
   "execution_count": null,
   "id": "a60f17ac",
   "metadata": {},
   "outputs": [],
   "source": [
    "vf_2016_a = vf_2016[vf_2016[\"voter_status_desc\"] ==\"ACTIVE\"]"
   ]
  },
  {
   "cell_type": "code",
   "execution_count": 30,
   "id": "e20a6a78",
   "metadata": {},
   "outputs": [
    {
     "data": {
      "text/plain": [
       "Index(['snapshot_dt', 'county_id', 'county_desc', 'voter_reg_num', 'ncid',\n",
       "       'status_cd', 'voter_status_desc', 'reason_cd',\n",
       "       'voter_status_reason_desc', 'absent_ind', 'name_prefx_cd', 'last_name',\n",
       "       'first_name', 'midl_name', 'name_sufx_cd', 'house_num', 'half_code',\n",
       "       'street_dir', 'street_name', 'street_type_cd', 'street_sufx_cd',\n",
       "       'unit_designator', 'unit_num', 'res_city_desc', 'state_cd', 'zip_code',\n",
       "       'mail_addr1', 'mail_addr2', 'mail_addr3', 'mail_addr4', 'mail_city',\n",
       "       'mail_state', 'mail_zipcode', 'area_cd', 'phone_num', 'race_code',\n",
       "       'race_desc', 'ethnic_code', 'ethnic_desc', 'party_cd', 'party_desc',\n",
       "       'sex_code', 'sex', 'age', 'birth_place', 'registr_dt', 'precinct_abbrv',\n",
       "       'precinct_desc', 'municipality_abbrv', 'municipality_desc',\n",
       "       'ward_abbrv', 'ward_desc', 'cong_dist_abbrv', 'cong_dist_desc',\n",
       "       'super_court_abbrv', 'super_court_desc', 'judic_dist_abbrv',\n",
       "       'judic_dist_desc', 'NC_senate_abbrv', 'NC_senate_desc',\n",
       "       'NC_house_abbrv', 'NC_house_desc', 'county_commiss_abbrv',\n",
       "       'county_commiss_desc', 'township_abbrv', 'township_desc',\n",
       "       'school_dist_abbrv', 'school_dist_desc', 'fire_dist_abbrv',\n",
       "       'fire_dist_desc', 'water_dist_abbrv', 'water_dist_desc',\n",
       "       'sewer_dist_abbrv', 'sewer_dist_desc', 'sanit_dist_abbrv',\n",
       "       'sanit_dist_desc', 'rescue_dist_abbrv', 'rescue_dist_desc',\n",
       "       'munic_dist_abbrv', 'munic_dist_desc', 'dist_1_abbrv', 'dist_1_desc',\n",
       "       'dist_2_abbrv', 'dist_2_desc', 'confidential_ind', 'cancellation_dt',\n",
       "       'vtd_abbrv', 'vtd_desc', 'load_dt', 'age_group'],\n",
       "      dtype='object')"
      ]
     },
     "execution_count": 30,
     "metadata": {},
     "output_type": "execute_result"
    }
   ],
   "source": [
    "# list all columns availible\n",
    "vf_2016_a.columns"
   ]
  },
  {
   "cell_type": "code",
   "execution_count": 122,
   "id": "dc7822fb",
   "metadata": {},
   "outputs": [],
   "source": [
    "# only keep some of the columsn avaible which may be useful for modeling -- note this selection is not extensive\n",
    "cols_to_keep= ['snapshot_dt', 'county_id', 'voter_reg_num', 'ncid', 'race_code','ethnic_code', 'area_cd', 'party_cd', 'sex_code', 'age', 'birth_place', 'registr_dt','precinct_abbrv','precinct_desc', 'age_group', 'mail_zipcode']\n"
   ]
  },
  {
   "cell_type": "code",
   "execution_count": 123,
   "id": "69a08f30",
   "metadata": {},
   "outputs": [],
   "source": [
    "vf_2016_a_cut = vf_2016_a[cols_to_keep]"
   ]
  },
  {
   "cell_type": "markdown",
   "id": "f54f614a",
   "metadata": {},
   "source": [
    "## Read in Vote History Data "
   ]
  },
  {
   "cell_type": "code",
   "execution_count": 271,
   "id": "faff0e3d",
   "metadata": {},
   "outputs": [],
   "source": [
    "# read in vote history data\n",
    "# get rid of data > 2020, as we are trying to predict turnout in 2020\n",
    "\n",
    "vote_history_alamance= pd.read_csv(\"Alamance Vote History/ncvhis1.txt\",  sep='\\t', on_bad_lines='warn')\n",
    "\n",
    "elections_to_keep= ['11/03/2020', '06/23/2020', '03/03/2020', \n",
    "                    '11/05/2019', '10/08/2019', '09/10/2019', '07/09/2019', '05/14/2019', '04/30/2019',\n",
    "                    '11/06/2018', '06/26/2018', '05/08/2018', \n",
    "                    '11/07/2017', '10/10/2017', '09/12/2017', \n",
    "                    '11/08/2016', '06/07/2016', '03/15/2016',\n",
    "                    '11/03/2015', '10/06/2015', '09/15/2015'] \n",
    "\n",
    "vote_history_alamance = vote_history_alamance[vote_history_alamance['election_lbl'].isin(elections_to_keep)]\n"
   ]
  },
  {
   "cell_type": "code",
   "execution_count": 272,
   "id": "3f2578ae",
   "metadata": {},
   "outputs": [
    {
     "data": {
      "text/plain": [
       "array(['11/03/2020', '03/03/2020', '11/08/2016', '03/15/2016',\n",
       "       '11/06/2018', '11/07/2017', '05/08/2018', '06/07/2016',\n",
       "       '11/05/2019', '11/03/2015', '10/08/2019', '10/10/2017',\n",
       "       '10/06/2015', '09/10/2019', '09/12/2017', '05/14/2019',\n",
       "       '04/30/2019', '07/09/2019', '06/23/2020', '06/26/2018',\n",
       "       '09/15/2015'], dtype=object)"
      ]
     },
     "execution_count": 272,
     "metadata": {},
     "output_type": "execute_result"
    }
   ],
   "source": [
    "# going to want column for each of these elections, i.e. 1 if voted, 0 if not...2020_g, 2020_p \n",
    "vote_history_alamance['election_lbl'].unique() "
   ]
  },
  {
   "cell_type": "code",
   "execution_count": 273,
   "id": "f3cdfb70",
   "metadata": {},
   "outputs": [],
   "source": [
    "# g= general \n",
    "# p = primary \n",
    "# pr = primary runoff  (?: don't want people w/o runoff to be penalized)\n",
    "# o = other form of election \n",
    "d = {\n",
    "    '11/03/2020': '2020_g',\n",
    "    '06/23/2020': '2020_pr',\n",
    "    '03/03/2020': '2020_p',\n",
    "    \n",
    "    '11/05/2019': '2019_g',\n",
    "    '10/08/2019': '2019_o',\n",
    "    '04/30/2019': '2019_o',\n",
    "    '07/09/2019': '2019_o',\n",
    "    \n",
    "    '11/06/2018': '2018_g', \n",
    "    '06/26/2018': '2018_pr',\n",
    "    '05/08/2018': '2018_p',\n",
    "    \n",
    "    '11/07/2017': '2017_g',\n",
    "    '10/10/2017': '2017_o',\n",
    "    '09/12/2017': '2017_o',\n",
    "    \n",
    "    '11/08/2016': '2016_g',\n",
    "    '06/07/2016': '2016_pr',\n",
    "    '03/15/2016': '2016_p',\n",
    "    \n",
    "    '11/03/2015': '2015_g',\n",
    "    '10/06/2015': '2015_o',\n",
    "    '09/15/2015': '2015_o'\n",
    "}\n",
    "vote_history_alamance['election_year_type'] = vote_history_alamance['election_lbl'].map(d)"
   ]
  },
  {
   "cell_type": "code",
   "execution_count": 274,
   "id": "62fd0f17",
   "metadata": {},
   "outputs": [
    {
     "data": {
      "text/plain": [
       "array(['ABSENTEE ONESTOP', 'ELECTION DAY IN-PERSON', 'ABSENTEE BY MAIL',\n",
       "       'ABSENTEE CURBSIDE', 'PROVISIONAL', 'ELECTION DAY CURBSIDE',\n",
       "       'TRANSFER'], dtype=object)"
      ]
     },
     "execution_count": 274,
     "metadata": {},
     "output_type": "execute_result"
    }
   ],
   "source": [
    "vote_history_alamance['voting_method'].unique() # --> Election Day, Absentee, Early Voting, Provisional/Transfer"
   ]
  },
  {
   "cell_type": "code",
   "execution_count": 275,
   "id": "fde03a8f",
   "metadata": {},
   "outputs": [],
   "source": [
    "# 1 - early\n",
    "# 0 - in person/ provisional\n",
    "\n",
    "d2= {'ABSENTEE ONESTOP': 1, \n",
    "     'ELECTION DAY IN-PERSON': 0,\n",
    "     'EARLY VOTING IN-PERSON': 1,\n",
    "     'ABSENTEE BY MAIL': 1,\n",
    "     'PROVISIONAL' : 0, \n",
    "     'ABSENTEE CURBSIDE': 1, \n",
    "     'EARLY VOTING CURBSIDE' : 1,\n",
    "     'ELECTION DAY CURBSIDE': 0,\n",
    "     'TRANSFER': 0}\n",
    "vote_history_alamance['vote_method'] = vote_history_alamance['voting_method'].map(d2)"
   ]
  },
  {
   "cell_type": "code",
   "execution_count": 204,
   "id": "a13c0d61",
   "metadata": {},
   "outputs": [],
   "source": [
    "# Filter out rows with election dates in 2020 -- note: this needs to be done on the 2020 voter file we are predicting\n",
    "# This is because we want to use it as a predictor, i.e. have they ever voted early in the past? \n",
    "\n",
    "filtered_df = vote_history_alamance[~vote_history_alamance['election_year_type'].isin(['2020_g', '2020_pr'])]\n",
    "\n",
    "# aggregate\n",
    "result = filtered_df[['ncid', 'vote_method']].groupby('ncid', as_index=False).max()\n",
    "\n",
    "voted_early_df_before_2020= result.rename({'vote_method': 'voted_early_prior_to_2020_g'}, axis=1)"
   ]
  },
  {
   "cell_type": "code",
   "execution_count": 277,
   "id": "5e4599fe",
   "metadata": {},
   "outputs": [],
   "source": [
    "# Filter out rows with election dates >= 2016 general\n",
    "# This is because we want to use it as a predictor, i.e. have they ever voted early in the past? \n",
    "\n",
    "filtered_df2 = vote_history_alamance[vote_history_alamance['election_year_type'].isin(['2015_g', '2015_o', '2016_p', '2016_pr'])]\n",
    "\n",
    "# aggregate\n",
    "result2 = filtered_df2[['ncid', 'vote_method']].groupby('ncid', as_index=False).max()\n",
    "\n",
    "voted_early_df_before_2016= result2.rename({'vote_method': 'voted_early_prior_to_2016_g'}, axis=1)\n"
   ]
  },
  {
   "cell_type": "code",
   "execution_count": 278,
   "id": "237da6a1",
   "metadata": {},
   "outputs": [],
   "source": [
    "# need to transform data from long to wide -- \n",
    "# i.e. one row for each voter reg #\n",
    "# county_id, county_desc, voter_reg_num, if 11/03/2020 General exists \n",
    "\n",
    "vote_history_alamance['participated'] = 1\n",
    "\n",
    "# Pivot wider\n",
    "pivot_df = vote_history_alamance.pivot_table(\n",
    "    index=['ncid', 'voter_reg_num', 'county_id', 'county_desc'], #, 'pct_description', 'pct_label'],\n",
    "    columns='election_year_type',\n",
    "    values='participated', \n",
    "    aggfunc='max',\n",
    "    fill_value=0\n",
    ")\n",
    "\n",
    "# note: wouldn't include movers's history then if they moved counties....room for improvement later "
   ]
  },
  {
   "cell_type": "code",
   "execution_count": 279,
   "id": "c64c0549",
   "metadata": {},
   "outputs": [],
   "source": [
    "vote_history_alamance_wider= pivot_df.reset_index()"
   ]
  },
  {
   "cell_type": "code",
   "execution_count": 280,
   "id": "2ddccc05",
   "metadata": {},
   "outputs": [
    {
     "data": {
      "text/html": [
       "<div>\n",
       "<style scoped>\n",
       "    .dataframe tbody tr th:only-of-type {\n",
       "        vertical-align: middle;\n",
       "    }\n",
       "\n",
       "    .dataframe tbody tr th {\n",
       "        vertical-align: top;\n",
       "    }\n",
       "\n",
       "    .dataframe thead th {\n",
       "        text-align: right;\n",
       "    }\n",
       "</style>\n",
       "<table border=\"1\" class=\"dataframe\">\n",
       "  <thead>\n",
       "    <tr style=\"text-align: right;\">\n",
       "      <th>election_year_type</th>\n",
       "      <th>ncid</th>\n",
       "      <th>voter_reg_num</th>\n",
       "      <th>county_id</th>\n",
       "      <th>county_desc</th>\n",
       "      <th>2015_g</th>\n",
       "      <th>2015_o</th>\n",
       "      <th>2016_g</th>\n",
       "      <th>2016_p</th>\n",
       "      <th>2016_pr</th>\n",
       "      <th>2017_g</th>\n",
       "      <th>2017_o</th>\n",
       "      <th>2018_g</th>\n",
       "      <th>2018_p</th>\n",
       "      <th>2018_pr</th>\n",
       "      <th>2019_g</th>\n",
       "      <th>2019_o</th>\n",
       "      <th>2020_g</th>\n",
       "      <th>2020_p</th>\n",
       "      <th>2020_pr</th>\n",
       "    </tr>\n",
       "  </thead>\n",
       "  <tbody>\n",
       "    <tr>\n",
       "      <th>0</th>\n",
       "      <td>AA100000</td>\n",
       "      <td>9050398</td>\n",
       "      <td>1</td>\n",
       "      <td>ALAMANCE</td>\n",
       "      <td>0</td>\n",
       "      <td>0</td>\n",
       "      <td>1</td>\n",
       "      <td>0</td>\n",
       "      <td>0</td>\n",
       "      <td>0</td>\n",
       "      <td>0</td>\n",
       "      <td>0</td>\n",
       "      <td>0</td>\n",
       "      <td>0</td>\n",
       "      <td>0</td>\n",
       "      <td>0</td>\n",
       "      <td>1</td>\n",
       "      <td>1</td>\n",
       "      <td>0</td>\n",
       "    </tr>\n",
       "    <tr>\n",
       "      <th>1</th>\n",
       "      <td>AA100006</td>\n",
       "      <td>9050405</td>\n",
       "      <td>1</td>\n",
       "      <td>ALAMANCE</td>\n",
       "      <td>0</td>\n",
       "      <td>0</td>\n",
       "      <td>1</td>\n",
       "      <td>1</td>\n",
       "      <td>0</td>\n",
       "      <td>0</td>\n",
       "      <td>0</td>\n",
       "      <td>1</td>\n",
       "      <td>0</td>\n",
       "      <td>0</td>\n",
       "      <td>0</td>\n",
       "      <td>0</td>\n",
       "      <td>1</td>\n",
       "      <td>0</td>\n",
       "      <td>0</td>\n",
       "    </tr>\n",
       "    <tr>\n",
       "      <th>2</th>\n",
       "      <td>AA100007</td>\n",
       "      <td>9050406</td>\n",
       "      <td>1</td>\n",
       "      <td>ALAMANCE</td>\n",
       "      <td>0</td>\n",
       "      <td>0</td>\n",
       "      <td>1</td>\n",
       "      <td>0</td>\n",
       "      <td>0</td>\n",
       "      <td>1</td>\n",
       "      <td>0</td>\n",
       "      <td>1</td>\n",
       "      <td>0</td>\n",
       "      <td>0</td>\n",
       "      <td>0</td>\n",
       "      <td>0</td>\n",
       "      <td>1</td>\n",
       "      <td>1</td>\n",
       "      <td>0</td>\n",
       "    </tr>\n",
       "    <tr>\n",
       "      <th>3</th>\n",
       "      <td>AA100009</td>\n",
       "      <td>9050408</td>\n",
       "      <td>1</td>\n",
       "      <td>ALAMANCE</td>\n",
       "      <td>0</td>\n",
       "      <td>0</td>\n",
       "      <td>1</td>\n",
       "      <td>1</td>\n",
       "      <td>0</td>\n",
       "      <td>0</td>\n",
       "      <td>0</td>\n",
       "      <td>1</td>\n",
       "      <td>1</td>\n",
       "      <td>0</td>\n",
       "      <td>0</td>\n",
       "      <td>0</td>\n",
       "      <td>1</td>\n",
       "      <td>0</td>\n",
       "      <td>0</td>\n",
       "    </tr>\n",
       "    <tr>\n",
       "      <th>4</th>\n",
       "      <td>AA10001</td>\n",
       "      <td>1242500</td>\n",
       "      <td>1</td>\n",
       "      <td>ALAMANCE</td>\n",
       "      <td>0</td>\n",
       "      <td>0</td>\n",
       "      <td>0</td>\n",
       "      <td>1</td>\n",
       "      <td>0</td>\n",
       "      <td>0</td>\n",
       "      <td>0</td>\n",
       "      <td>0</td>\n",
       "      <td>0</td>\n",
       "      <td>0</td>\n",
       "      <td>0</td>\n",
       "      <td>0</td>\n",
       "      <td>0</td>\n",
       "      <td>0</td>\n",
       "      <td>0</td>\n",
       "    </tr>\n",
       "    <tr>\n",
       "      <th>...</th>\n",
       "      <td>...</td>\n",
       "      <td>...</td>\n",
       "      <td>...</td>\n",
       "      <td>...</td>\n",
       "      <td>...</td>\n",
       "      <td>...</td>\n",
       "      <td>...</td>\n",
       "      <td>...</td>\n",
       "      <td>...</td>\n",
       "      <td>...</td>\n",
       "      <td>...</td>\n",
       "      <td>...</td>\n",
       "      <td>...</td>\n",
       "      <td>...</td>\n",
       "      <td>...</td>\n",
       "      <td>...</td>\n",
       "      <td>...</td>\n",
       "      <td>...</td>\n",
       "      <td>...</td>\n",
       "    </tr>\n",
       "    <tr>\n",
       "      <th>102130</th>\n",
       "      <td>ES22005</td>\n",
       "      <td>9197961</td>\n",
       "      <td>1</td>\n",
       "      <td>ALAMANCE</td>\n",
       "      <td>0</td>\n",
       "      <td>0</td>\n",
       "      <td>1</td>\n",
       "      <td>0</td>\n",
       "      <td>0</td>\n",
       "      <td>0</td>\n",
       "      <td>0</td>\n",
       "      <td>0</td>\n",
       "      <td>0</td>\n",
       "      <td>0</td>\n",
       "      <td>0</td>\n",
       "      <td>0</td>\n",
       "      <td>1</td>\n",
       "      <td>0</td>\n",
       "      <td>0</td>\n",
       "    </tr>\n",
       "    <tr>\n",
       "      <th>102131</th>\n",
       "      <td>ES23246</td>\n",
       "      <td>9178489</td>\n",
       "      <td>1</td>\n",
       "      <td>ALAMANCE</td>\n",
       "      <td>0</td>\n",
       "      <td>0</td>\n",
       "      <td>1</td>\n",
       "      <td>1</td>\n",
       "      <td>0</td>\n",
       "      <td>0</td>\n",
       "      <td>0</td>\n",
       "      <td>1</td>\n",
       "      <td>0</td>\n",
       "      <td>0</td>\n",
       "      <td>0</td>\n",
       "      <td>0</td>\n",
       "      <td>1</td>\n",
       "      <td>1</td>\n",
       "      <td>0</td>\n",
       "    </tr>\n",
       "    <tr>\n",
       "      <th>102132</th>\n",
       "      <td>ES25042</td>\n",
       "      <td>9241785</td>\n",
       "      <td>1</td>\n",
       "      <td>ALAMANCE</td>\n",
       "      <td>0</td>\n",
       "      <td>0</td>\n",
       "      <td>0</td>\n",
       "      <td>0</td>\n",
       "      <td>0</td>\n",
       "      <td>0</td>\n",
       "      <td>0</td>\n",
       "      <td>0</td>\n",
       "      <td>0</td>\n",
       "      <td>0</td>\n",
       "      <td>0</td>\n",
       "      <td>0</td>\n",
       "      <td>1</td>\n",
       "      <td>0</td>\n",
       "      <td>0</td>\n",
       "    </tr>\n",
       "    <tr>\n",
       "      <th>102133</th>\n",
       "      <td>ES25192</td>\n",
       "      <td>9198550</td>\n",
       "      <td>1</td>\n",
       "      <td>ALAMANCE</td>\n",
       "      <td>0</td>\n",
       "      <td>0</td>\n",
       "      <td>0</td>\n",
       "      <td>0</td>\n",
       "      <td>0</td>\n",
       "      <td>0</td>\n",
       "      <td>0</td>\n",
       "      <td>0</td>\n",
       "      <td>0</td>\n",
       "      <td>0</td>\n",
       "      <td>0</td>\n",
       "      <td>0</td>\n",
       "      <td>1</td>\n",
       "      <td>0</td>\n",
       "      <td>0</td>\n",
       "    </tr>\n",
       "    <tr>\n",
       "      <th>102134</th>\n",
       "      <td>ES27016</td>\n",
       "      <td>9221029</td>\n",
       "      <td>1</td>\n",
       "      <td>ALAMANCE</td>\n",
       "      <td>0</td>\n",
       "      <td>0</td>\n",
       "      <td>1</td>\n",
       "      <td>0</td>\n",
       "      <td>0</td>\n",
       "      <td>0</td>\n",
       "      <td>0</td>\n",
       "      <td>1</td>\n",
       "      <td>0</td>\n",
       "      <td>0</td>\n",
       "      <td>0</td>\n",
       "      <td>0</td>\n",
       "      <td>1</td>\n",
       "      <td>0</td>\n",
       "      <td>0</td>\n",
       "    </tr>\n",
       "  </tbody>\n",
       "</table>\n",
       "<p>102135 rows × 19 columns</p>\n",
       "</div>"
      ],
      "text/plain": [
       "election_year_type      ncid  voter_reg_num  county_id county_desc  2015_g  \\\n",
       "0                   AA100000        9050398          1    ALAMANCE       0   \n",
       "1                   AA100006        9050405          1    ALAMANCE       0   \n",
       "2                   AA100007        9050406          1    ALAMANCE       0   \n",
       "3                   AA100009        9050408          1    ALAMANCE       0   \n",
       "4                    AA10001        1242500          1    ALAMANCE       0   \n",
       "...                      ...            ...        ...         ...     ...   \n",
       "102130               ES22005        9197961          1    ALAMANCE       0   \n",
       "102131               ES23246        9178489          1    ALAMANCE       0   \n",
       "102132               ES25042        9241785          1    ALAMANCE       0   \n",
       "102133               ES25192        9198550          1    ALAMANCE       0   \n",
       "102134               ES27016        9221029          1    ALAMANCE       0   \n",
       "\n",
       "election_year_type  2015_o  2016_g  2016_p  2016_pr  2017_g  2017_o  2018_g  \\\n",
       "0                        0       1       0        0       0       0       0   \n",
       "1                        0       1       1        0       0       0       1   \n",
       "2                        0       1       0        0       1       0       1   \n",
       "3                        0       1       1        0       0       0       1   \n",
       "4                        0       0       1        0       0       0       0   \n",
       "...                    ...     ...     ...      ...     ...     ...     ...   \n",
       "102130                   0       1       0        0       0       0       0   \n",
       "102131                   0       1       1        0       0       0       1   \n",
       "102132                   0       0       0        0       0       0       0   \n",
       "102133                   0       0       0        0       0       0       0   \n",
       "102134                   0       1       0        0       0       0       1   \n",
       "\n",
       "election_year_type  2018_p  2018_pr  2019_g  2019_o  2020_g  2020_p  2020_pr  \n",
       "0                        0        0       0       0       1       1        0  \n",
       "1                        0        0       0       0       1       0        0  \n",
       "2                        0        0       0       0       1       1        0  \n",
       "3                        1        0       0       0       1       0        0  \n",
       "4                        0        0       0       0       0       0        0  \n",
       "...                    ...      ...     ...     ...     ...     ...      ...  \n",
       "102130                   0        0       0       0       1       0        0  \n",
       "102131                   0        0       0       0       1       1        0  \n",
       "102132                   0        0       0       0       1       0        0  \n",
       "102133                   0        0       0       0       1       0        0  \n",
       "102134                   0        0       0       0       1       0        0  \n",
       "\n",
       "[102135 rows x 19 columns]"
      ]
     },
     "execution_count": 280,
     "metadata": {},
     "output_type": "execute_result"
    }
   ],
   "source": [
    "vote_history_alamance_wider"
   ]
  },
  {
   "cell_type": "code",
   "execution_count": 281,
   "id": "4dae5668",
   "metadata": {},
   "outputs": [],
   "source": [
    "alamace_county_merged= pd.merge(vf_2016_a_cut, vote_history_alamance_wider, on='voter_reg_num', how='left')\n"
   ]
  },
  {
   "cell_type": "code",
   "execution_count": 120,
   "id": "d16eaffc",
   "metadata": {},
   "outputs": [],
   "source": [
    "# note: since vote history only goes through ~2015, did not include voter files from previous elections, since would not have any validation column/data! "
   ]
  },
  {
   "cell_type": "code",
   "execution_count": 284,
   "id": "2d260302",
   "metadata": {},
   "outputs": [],
   "source": [
    "alamace_county_merged= alamace_county_merged.rename({'ncid_x': 'ncid'}, axis=1)\n",
    "alamace_county_merged= pd.merge(alamace_county_merged, voted_early_df_before_2016, left_on='ncid', right_on='ncid', how='left')"
   ]
  },
  {
   "cell_type": "code",
   "execution_count": 285,
   "id": "b24d981f",
   "metadata": {},
   "outputs": [
    {
     "data": {
      "text/plain": [
       "9008.0"
      ]
     },
     "execution_count": 285,
     "metadata": {},
     "output_type": "execute_result"
    }
   ],
   "source": [
    "#10k voted early prior to 2016 general -- might not be enough data here to use, might over predict voting based on this! \n",
    "np.sum(alamace_county_merged['voted_early_prior_to_2016_g'])"
   ]
  },
  {
   "cell_type": "code",
   "execution_count": null,
   "id": "9df511f8",
   "metadata": {},
   "outputs": [],
   "source": [
    "# next steps: recoding variables\n",
    "\n",
    "# why ever absentee-- if voted absentee/early, seems likley they'd vote again more than people who voted on eday "
   ]
  },
  {
   "cell_type": "code",
   "execution_count": 286,
   "id": "bf6f09e4",
   "metadata": {},
   "outputs": [],
   "source": [
    "alamace_county_merged['registr_dt'] = pd.to_datetime(alamace_county_merged['registr_dt'])\n",
    "\n",
    "# Extract the year from the 'election_date' column\n",
    "alamace_county_merged['registration_year'] = alamace_county_merged['registr_dt'].dt.year"
   ]
  },
  {
   "cell_type": "code",
   "execution_count": 287,
   "id": "a184f406",
   "metadata": {},
   "outputs": [],
   "source": [
    "alamace_county_merged['in_cycle_reg'] = alamace_county_merged['registration_year'] == 2016"
   ]
  },
  {
   "cell_type": "code",
   "execution_count": 288,
   "id": "c5baa4d4",
   "metadata": {},
   "outputs": [
    {
     "data": {
      "text/plain": [
       "12022"
      ]
     },
     "execution_count": 288,
     "metadata": {},
     "output_type": "execute_result"
    }
   ],
   "source": [
    "np.sum(alamace_county_merged['in_cycle_reg'])"
   ]
  },
  {
   "cell_type": "code",
   "execution_count": 291,
   "id": "7c68bfab",
   "metadata": {},
   "outputs": [],
   "source": [
    "alamace_county_merged.to_csv(\"alamance_2016_vf_data.csv\", index=False)\n"
   ]
  },
  {
   "cell_type": "code",
   "execution_count": 290,
   "id": "1193dd02",
   "metadata": {},
   "outputs": [
    {
     "data": {
      "text/plain": [
       "array([ 1., nan,  0.])"
      ]
     },
     "execution_count": 290,
     "metadata": {},
     "output_type": "execute_result"
    }
   ],
   "source": [
    "# okay, so what do NA's mean here -- well \n",
    "# to get 2016_g we used vote history data set, i.e. for each ncid we have record of if they voted in the general \n",
    "# we joined this to the 2016 voter file (left), so NA's mean they were on the voter file but DID NOT match to the 2016 general election (or any election) \n",
    "# so NA's indicate people on the voter file who DID NOT VOTE, since 2016_g eas created from vote history data set. \n",
    "\n",
    "alamace_county_merged['2016_g'].unique()"
   ]
  },
  {
   "cell_type": "markdown",
   "id": "2225025c",
   "metadata": {},
   "source": [
    " ## Now repeat data cleaning/ preprocessing for 2020 voter file \n",
    " "
   ]
  },
  {
   "cell_type": "code",
   "execution_count": null,
   "id": "f7d986ee",
   "metadata": {},
   "outputs": [],
   "source": [
    "# heads up, not commenting this as fully because it is the same process as what I did above! "
   ]
  },
  {
   "cell_type": "code",
   "execution_count": 292,
   "id": "43579c96",
   "metadata": {},
   "outputs": [
    {
     "name": "stderr",
     "output_type": "stream",
     "text": [
      "/var/folders/09/l3m63nj90fg1l2jshjp_hd5w0000gn/T/ipykernel_47245/3868972654.py:1: DtypeWarning: Columns (25,28,29) have mixed types. Specify dtype option on import or set low_memory=False.\n",
      "  vf_2020= pd.read_csv(\"/Users/caranix/Documents/murmuration/NC_Voterfiles_Alamance/VR_Snapshot_20201103.csv\")\n"
     ]
    }
   ],
   "source": [
    "vf_2020= pd.read_csv(\"/Users/caranix/Documents/murmuration/NC_Voterfiles_Alamance/VR_Snapshot_20201103.csv\")"
   ]
  },
  {
   "cell_type": "code",
   "execution_count": 296,
   "id": "f4663532",
   "metadata": {},
   "outputs": [],
   "source": [
    "vf_2020_a = vf_2020[vf_2020[\"voter_status_desc\"] ==\"ACTIVE\"]\n",
    "\n",
    "vf_2020_a_cut = vf_2020_a[cols_to_keep]\n",
    "\n",
    "alamace_county_merged_2020= pd.merge(vf_2020_a_cut, vote_history_alamance_wider, on='voter_reg_num', how='left')\n",
    "\n",
    "alamace_county_merged_2020= alamace_county_merged_2020.rename({'ncid_x': 'ncid'}, axis=1)\n",
    "\n",
    "alamace_county_merged_2020= pd.merge(alamace_county_merged_2020, voted_early_df_before_2020, left_on='ncid', right_on='ncid', how='left')\n",
    "\n",
    "np.sum(alamace_county_merged_2020['voted_early_prior_to_2020_g'])"
   ]
  },
  {
   "cell_type": "code",
   "execution_count": null,
   "id": "0ba5239d",
   "metadata": {},
   "outputs": [],
   "source": [
    "# nice a lot of people voted early in past "
   ]
  },
  {
   "cell_type": "code",
   "execution_count": 300,
   "id": "a440b916",
   "metadata": {},
   "outputs": [],
   "source": [
    "# feature: registration year in-cycle\n",
    "alamace_county_merged_2020['registr_dt'] = pd.to_datetime(alamace_county_merged_2020['registr_dt'])\n",
    "\n",
    "# Extract the year from the 'election_date' column\n",
    "alamace_county_merged_2020['registration_year'] = alamace_county_merged_2020['registr_dt'].dt.year"
   ]
  },
  {
   "cell_type": "code",
   "execution_count": 301,
   "id": "6932bc40",
   "metadata": {},
   "outputs": [],
   "source": [
    "alamace_county_merged_2020['in_cycle_reg'] = alamace_county_merged_2020['registration_year'] == 2020"
   ]
  },
  {
   "cell_type": "code",
   "execution_count": 302,
   "id": "114e2b05",
   "metadata": {},
   "outputs": [
    {
     "data": {
      "text/plain": [
       "14891"
      ]
     },
     "execution_count": 302,
     "metadata": {},
     "output_type": "execute_result"
    }
   ],
   "source": [
    "np.sum(alamace_county_merged_2020['in_cycle_reg'])"
   ]
  },
  {
   "cell_type": "code",
   "execution_count": 303,
   "id": "61b1f2fd",
   "metadata": {},
   "outputs": [],
   "source": [
    "alamace_county_merged_2020.to_csv(\"alamance_2020_vf_data.csv\", index=False)\n"
   ]
  },
  {
   "cell_type": "code",
   "execution_count": 494,
   "id": "a14a1dff",
   "metadata": {},
   "outputs": [
    {
     "data": {
      "text/plain": [
       "20231"
      ]
     },
     "execution_count": 494,
     "metadata": {},
     "output_type": "execute_result"
    }
   ],
   "source": [
    "# ~20k leaving file between 2016 and 2020 \n",
    "len(list(set(alamace_county_merged['ncid']) - set(alamace_county_merged_2020['ncid'])))"
   ]
  },
  {
   "cell_type": "code",
   "execution_count": 493,
   "id": "29a2ff7b",
   "metadata": {},
   "outputs": [
    {
     "data": {
      "text/plain": [
       "35783"
      ]
     },
     "execution_count": 493,
     "metadata": {},
     "output_type": "execute_result"
    }
   ],
   "source": [
    "# ~35k people joining file between 2016 and 2020 \n",
    "len(list(set(alamace_county_merged_2020['ncid']) - set(alamace_county_merged['ncid'])))"
   ]
  },
  {
   "cell_type": "code",
   "execution_count": 505,
   "id": "39102877",
   "metadata": {},
   "outputs": [
    {
     "data": {
      "text/plain": [
       "race_code\n",
       "W    72.307604\n",
       "B    20.223838\n",
       "U     3.995616\n",
       "O     1.874928\n",
       "M     0.698050\n",
       "A     0.629976\n",
       "I     0.269990\n",
       "Name: count, dtype: float64"
      ]
     },
     "execution_count": 505,
     "metadata": {},
     "output_type": "execute_result"
    }
   ],
   "source": [
    "group_counts = alamace_county_merged['race_code'].value_counts()\n",
    "percentages = group_counts / group_counts.sum() * 100\n",
    "percentages"
   ]
  },
  {
   "cell_type": "code",
   "execution_count": 506,
   "id": "802dccbc",
   "metadata": {},
   "outputs": [
    {
     "data": {
      "text/plain": [
       "age_group\n",
       "Age 41 - 65    44.622130\n",
       "Age Over 66    23.140648\n",
       "Age 26 - 40    20.291912\n",
       "Age 18 - 25    11.945310\n",
       "Name: count, dtype: float64"
      ]
     },
     "execution_count": 506,
     "metadata": {},
     "output_type": "execute_result"
    }
   ],
   "source": [
    "group_counts = alamace_county_merged['age_group'].value_counts()\n",
    "percentages = group_counts / group_counts.sum() * 100\n",
    "percentages"
   ]
  },
  {
   "cell_type": "code",
   "execution_count": 507,
   "id": "9f6694fc",
   "metadata": {},
   "outputs": [
    {
     "data": {
      "text/plain": [
       "party_cd\n",
       "DEM    38.661590\n",
       "REP    34.098304\n",
       "UNA    26.805123\n",
       "LIB     0.434983\n",
       "Name: count, dtype: float64"
      ]
     },
     "execution_count": 507,
     "metadata": {},
     "output_type": "execute_result"
    }
   ],
   "source": [
    "group_counts = alamace_county_merged['party_cd'].value_counts()\n",
    "percentages = group_counts / group_counts.sum() * 100\n",
    "percentages"
   ]
  },
  {
   "cell_type": "code",
   "execution_count": 508,
   "id": "676f8e6c",
   "metadata": {},
   "outputs": [
    {
     "data": {
      "text/plain": [
       "sex_code\n",
       "F    54.202146\n",
       "M    43.434868\n",
       "U     2.362986\n",
       "Name: count, dtype: float64"
      ]
     },
     "execution_count": 508,
     "metadata": {},
     "output_type": "execute_result"
    }
   ],
   "source": [
    "group_counts = alamace_county_merged['sex_code'].value_counts()\n",
    "percentages = group_counts / group_counts.sum() * 100\n",
    "percentages"
   ]
  },
  {
   "cell_type": "code",
   "execution_count": 500,
   "id": "7e19608a",
   "metadata": {},
   "outputs": [
    {
     "data": {
      "text/plain": [
       "race_code\n",
       "W    65.106337\n",
       "B    19.251238\n",
       "U    11.485786\n",
       "O     2.420223\n",
       "A     0.820763\n",
       "M     0.672067\n",
       "I     0.236740\n",
       "P     0.006848\n",
       "Name: count, dtype: float64"
      ]
     },
     "execution_count": 500,
     "metadata": {},
     "output_type": "execute_result"
    }
   ],
   "source": [
    "## now for 2020 \n",
    "group_counts = alamace_county_merged_2020['race_code'].value_counts()\n",
    "percentages = group_counts / group_counts.sum() * 100\n",
    "percentages"
   ]
  },
  {
   "cell_type": "code",
   "execution_count": 502,
   "id": "980dec73",
   "metadata": {},
   "outputs": [
    {
     "data": {
      "text/plain": [
       "age_group\n",
       "Age 41 - 65    41.240633\n",
       "Age Over 66    23.010702\n",
       "Age 26 - 40    21.738960\n",
       "Age 18 - 25    14.009704\n",
       "Name: count, dtype: float64"
      ]
     },
     "execution_count": 502,
     "metadata": {},
     "output_type": "execute_result"
    }
   ],
   "source": [
    "group_counts = alamace_county_merged_2020['age_group'].value_counts()\n",
    "percentages = group_counts / group_counts.sum() * 100\n",
    "percentages"
   ]
  },
  {
   "cell_type": "code",
   "execution_count": 503,
   "id": "fbbdf0ff",
   "metadata": {},
   "outputs": [
    {
     "data": {
      "text/plain": [
       "party_cd\n",
       "DEM    35.171490\n",
       "REP    33.554421\n",
       "UNA    30.624523\n",
       "LIB     0.555653\n",
       "CST     0.063587\n",
       "GRE     0.030326\n",
       "Name: count, dtype: float64"
      ]
     },
     "execution_count": 503,
     "metadata": {},
     "output_type": "execute_result"
    }
   ],
   "source": [
    "group_counts = alamace_county_merged_2020['party_cd'].value_counts()\n",
    "percentages = group_counts / group_counts.sum() * 100\n",
    "percentages"
   ]
  },
  {
   "cell_type": "code",
   "execution_count": 504,
   "id": "773fa047",
   "metadata": {},
   "outputs": [
    {
     "data": {
      "text/plain": [
       "sex_code\n",
       "F    50.119348\n",
       "M    40.727045\n",
       "U     9.153607\n",
       "Name: count, dtype: float64"
      ]
     },
     "execution_count": 504,
     "metadata": {},
     "output_type": "execute_result"
    }
   ],
   "source": [
    "group_counts = alamace_county_merged_2020['sex_code'].value_counts()\n",
    "percentages = group_counts / group_counts.sum() * 100\n",
    "percentages"
   ]
  },
  {
   "cell_type": "markdown",
   "id": "be851e1a",
   "metadata": {},
   "source": [
    "## Feature: get precinct-level turnout from last general election "
   ]
  },
  {
   "cell_type": "code",
   "execution_count": 35,
   "id": "a085f59f",
   "metadata": {},
   "outputs": [
    {
     "ename": "FileNotFoundError",
     "evalue": "[Errno 2] No such file or directory: '/Users/caranix/Documents/GitHub/AlamanceTurnout/results_pct_20121106.txt'",
     "output_type": "error",
     "traceback": [
      "\u001b[0;31m---------------------------------------------------------------------------\u001b[0m",
      "\u001b[0;31mFileNotFoundError\u001b[0m                         Traceback (most recent call last)",
      "Cell \u001b[0;32mIn[35], line 2\u001b[0m\n\u001b[1;32m      1\u001b[0m \u001b[38;5;66;03m# read in total votes by precinct from 2012 \u001b[39;00m\n\u001b[0;32m----> 2\u001b[0m precinct_turnout_2012\u001b[38;5;241m=\u001b[39m pd\u001b[38;5;241m.\u001b[39mread_csv(\u001b[38;5;124m\"\u001b[39m\u001b[38;5;124m/Users/caranix/Documents/GitHub/AlamanceTurnout/results_pct_20121106.txt\u001b[39m\u001b[38;5;124m\"\u001b[39m)\n",
      "File \u001b[0;32m~/anaconda3/envs/champ/lib/python3.11/site-packages/pandas/io/parsers/readers.py:912\u001b[0m, in \u001b[0;36mread_csv\u001b[0;34m(filepath_or_buffer, sep, delimiter, header, names, index_col, usecols, dtype, engine, converters, true_values, false_values, skipinitialspace, skiprows, skipfooter, nrows, na_values, keep_default_na, na_filter, verbose, skip_blank_lines, parse_dates, infer_datetime_format, keep_date_col, date_parser, date_format, dayfirst, cache_dates, iterator, chunksize, compression, thousands, decimal, lineterminator, quotechar, quoting, doublequote, escapechar, comment, encoding, encoding_errors, dialect, on_bad_lines, delim_whitespace, low_memory, memory_map, float_precision, storage_options, dtype_backend)\u001b[0m\n\u001b[1;32m    899\u001b[0m kwds_defaults \u001b[38;5;241m=\u001b[39m _refine_defaults_read(\n\u001b[1;32m    900\u001b[0m     dialect,\n\u001b[1;32m    901\u001b[0m     delimiter,\n\u001b[0;32m   (...)\u001b[0m\n\u001b[1;32m    908\u001b[0m     dtype_backend\u001b[38;5;241m=\u001b[39mdtype_backend,\n\u001b[1;32m    909\u001b[0m )\n\u001b[1;32m    910\u001b[0m kwds\u001b[38;5;241m.\u001b[39mupdate(kwds_defaults)\n\u001b[0;32m--> 912\u001b[0m \u001b[38;5;28;01mreturn\u001b[39;00m _read(filepath_or_buffer, kwds)\n",
      "File \u001b[0;32m~/anaconda3/envs/champ/lib/python3.11/site-packages/pandas/io/parsers/readers.py:577\u001b[0m, in \u001b[0;36m_read\u001b[0;34m(filepath_or_buffer, kwds)\u001b[0m\n\u001b[1;32m    574\u001b[0m _validate_names(kwds\u001b[38;5;241m.\u001b[39mget(\u001b[38;5;124m\"\u001b[39m\u001b[38;5;124mnames\u001b[39m\u001b[38;5;124m\"\u001b[39m, \u001b[38;5;28;01mNone\u001b[39;00m))\n\u001b[1;32m    576\u001b[0m \u001b[38;5;66;03m# Create the parser.\u001b[39;00m\n\u001b[0;32m--> 577\u001b[0m parser \u001b[38;5;241m=\u001b[39m TextFileReader(filepath_or_buffer, \u001b[38;5;241m*\u001b[39m\u001b[38;5;241m*\u001b[39mkwds)\n\u001b[1;32m    579\u001b[0m \u001b[38;5;28;01mif\u001b[39;00m chunksize \u001b[38;5;129;01mor\u001b[39;00m iterator:\n\u001b[1;32m    580\u001b[0m     \u001b[38;5;28;01mreturn\u001b[39;00m parser\n",
      "File \u001b[0;32m~/anaconda3/envs/champ/lib/python3.11/site-packages/pandas/io/parsers/readers.py:1407\u001b[0m, in \u001b[0;36mTextFileReader.__init__\u001b[0;34m(self, f, engine, **kwds)\u001b[0m\n\u001b[1;32m   1404\u001b[0m     \u001b[38;5;28mself\u001b[39m\u001b[38;5;241m.\u001b[39moptions[\u001b[38;5;124m\"\u001b[39m\u001b[38;5;124mhas_index_names\u001b[39m\u001b[38;5;124m\"\u001b[39m] \u001b[38;5;241m=\u001b[39m kwds[\u001b[38;5;124m\"\u001b[39m\u001b[38;5;124mhas_index_names\u001b[39m\u001b[38;5;124m\"\u001b[39m]\n\u001b[1;32m   1406\u001b[0m \u001b[38;5;28mself\u001b[39m\u001b[38;5;241m.\u001b[39mhandles: IOHandles \u001b[38;5;241m|\u001b[39m \u001b[38;5;28;01mNone\u001b[39;00m \u001b[38;5;241m=\u001b[39m \u001b[38;5;28;01mNone\u001b[39;00m\n\u001b[0;32m-> 1407\u001b[0m \u001b[38;5;28mself\u001b[39m\u001b[38;5;241m.\u001b[39m_engine \u001b[38;5;241m=\u001b[39m \u001b[38;5;28mself\u001b[39m\u001b[38;5;241m.\u001b[39m_make_engine(f, \u001b[38;5;28mself\u001b[39m\u001b[38;5;241m.\u001b[39mengine)\n",
      "File \u001b[0;32m~/anaconda3/envs/champ/lib/python3.11/site-packages/pandas/io/parsers/readers.py:1661\u001b[0m, in \u001b[0;36mTextFileReader._make_engine\u001b[0;34m(self, f, engine)\u001b[0m\n\u001b[1;32m   1659\u001b[0m     \u001b[38;5;28;01mif\u001b[39;00m \u001b[38;5;124m\"\u001b[39m\u001b[38;5;124mb\u001b[39m\u001b[38;5;124m\"\u001b[39m \u001b[38;5;129;01mnot\u001b[39;00m \u001b[38;5;129;01min\u001b[39;00m mode:\n\u001b[1;32m   1660\u001b[0m         mode \u001b[38;5;241m+\u001b[39m\u001b[38;5;241m=\u001b[39m \u001b[38;5;124m\"\u001b[39m\u001b[38;5;124mb\u001b[39m\u001b[38;5;124m\"\u001b[39m\n\u001b[0;32m-> 1661\u001b[0m \u001b[38;5;28mself\u001b[39m\u001b[38;5;241m.\u001b[39mhandles \u001b[38;5;241m=\u001b[39m get_handle(\n\u001b[1;32m   1662\u001b[0m     f,\n\u001b[1;32m   1663\u001b[0m     mode,\n\u001b[1;32m   1664\u001b[0m     encoding\u001b[38;5;241m=\u001b[39m\u001b[38;5;28mself\u001b[39m\u001b[38;5;241m.\u001b[39moptions\u001b[38;5;241m.\u001b[39mget(\u001b[38;5;124m\"\u001b[39m\u001b[38;5;124mencoding\u001b[39m\u001b[38;5;124m\"\u001b[39m, \u001b[38;5;28;01mNone\u001b[39;00m),\n\u001b[1;32m   1665\u001b[0m     compression\u001b[38;5;241m=\u001b[39m\u001b[38;5;28mself\u001b[39m\u001b[38;5;241m.\u001b[39moptions\u001b[38;5;241m.\u001b[39mget(\u001b[38;5;124m\"\u001b[39m\u001b[38;5;124mcompression\u001b[39m\u001b[38;5;124m\"\u001b[39m, \u001b[38;5;28;01mNone\u001b[39;00m),\n\u001b[1;32m   1666\u001b[0m     memory_map\u001b[38;5;241m=\u001b[39m\u001b[38;5;28mself\u001b[39m\u001b[38;5;241m.\u001b[39moptions\u001b[38;5;241m.\u001b[39mget(\u001b[38;5;124m\"\u001b[39m\u001b[38;5;124mmemory_map\u001b[39m\u001b[38;5;124m\"\u001b[39m, \u001b[38;5;28;01mFalse\u001b[39;00m),\n\u001b[1;32m   1667\u001b[0m     is_text\u001b[38;5;241m=\u001b[39mis_text,\n\u001b[1;32m   1668\u001b[0m     errors\u001b[38;5;241m=\u001b[39m\u001b[38;5;28mself\u001b[39m\u001b[38;5;241m.\u001b[39moptions\u001b[38;5;241m.\u001b[39mget(\u001b[38;5;124m\"\u001b[39m\u001b[38;5;124mencoding_errors\u001b[39m\u001b[38;5;124m\"\u001b[39m, \u001b[38;5;124m\"\u001b[39m\u001b[38;5;124mstrict\u001b[39m\u001b[38;5;124m\"\u001b[39m),\n\u001b[1;32m   1669\u001b[0m     storage_options\u001b[38;5;241m=\u001b[39m\u001b[38;5;28mself\u001b[39m\u001b[38;5;241m.\u001b[39moptions\u001b[38;5;241m.\u001b[39mget(\u001b[38;5;124m\"\u001b[39m\u001b[38;5;124mstorage_options\u001b[39m\u001b[38;5;124m\"\u001b[39m, \u001b[38;5;28;01mNone\u001b[39;00m),\n\u001b[1;32m   1670\u001b[0m )\n\u001b[1;32m   1671\u001b[0m \u001b[38;5;28;01massert\u001b[39;00m \u001b[38;5;28mself\u001b[39m\u001b[38;5;241m.\u001b[39mhandles \u001b[38;5;129;01mis\u001b[39;00m \u001b[38;5;129;01mnot\u001b[39;00m \u001b[38;5;28;01mNone\u001b[39;00m\n\u001b[1;32m   1672\u001b[0m f \u001b[38;5;241m=\u001b[39m \u001b[38;5;28mself\u001b[39m\u001b[38;5;241m.\u001b[39mhandles\u001b[38;5;241m.\u001b[39mhandle\n",
      "File \u001b[0;32m~/anaconda3/envs/champ/lib/python3.11/site-packages/pandas/io/common.py:859\u001b[0m, in \u001b[0;36mget_handle\u001b[0;34m(path_or_buf, mode, encoding, compression, memory_map, is_text, errors, storage_options)\u001b[0m\n\u001b[1;32m    854\u001b[0m \u001b[38;5;28;01melif\u001b[39;00m \u001b[38;5;28misinstance\u001b[39m(handle, \u001b[38;5;28mstr\u001b[39m):\n\u001b[1;32m    855\u001b[0m     \u001b[38;5;66;03m# Check whether the filename is to be opened in binary mode.\u001b[39;00m\n\u001b[1;32m    856\u001b[0m     \u001b[38;5;66;03m# Binary mode does not support 'encoding' and 'newline'.\u001b[39;00m\n\u001b[1;32m    857\u001b[0m     \u001b[38;5;28;01mif\u001b[39;00m ioargs\u001b[38;5;241m.\u001b[39mencoding \u001b[38;5;129;01mand\u001b[39;00m \u001b[38;5;124m\"\u001b[39m\u001b[38;5;124mb\u001b[39m\u001b[38;5;124m\"\u001b[39m \u001b[38;5;129;01mnot\u001b[39;00m \u001b[38;5;129;01min\u001b[39;00m ioargs\u001b[38;5;241m.\u001b[39mmode:\n\u001b[1;32m    858\u001b[0m         \u001b[38;5;66;03m# Encoding\u001b[39;00m\n\u001b[0;32m--> 859\u001b[0m         handle \u001b[38;5;241m=\u001b[39m \u001b[38;5;28mopen\u001b[39m(\n\u001b[1;32m    860\u001b[0m             handle,\n\u001b[1;32m    861\u001b[0m             ioargs\u001b[38;5;241m.\u001b[39mmode,\n\u001b[1;32m    862\u001b[0m             encoding\u001b[38;5;241m=\u001b[39mioargs\u001b[38;5;241m.\u001b[39mencoding,\n\u001b[1;32m    863\u001b[0m             errors\u001b[38;5;241m=\u001b[39merrors,\n\u001b[1;32m    864\u001b[0m             newline\u001b[38;5;241m=\u001b[39m\u001b[38;5;124m\"\u001b[39m\u001b[38;5;124m\"\u001b[39m,\n\u001b[1;32m    865\u001b[0m         )\n\u001b[1;32m    866\u001b[0m     \u001b[38;5;28;01melse\u001b[39;00m:\n\u001b[1;32m    867\u001b[0m         \u001b[38;5;66;03m# Binary mode\u001b[39;00m\n\u001b[1;32m    868\u001b[0m         handle \u001b[38;5;241m=\u001b[39m \u001b[38;5;28mopen\u001b[39m(handle, ioargs\u001b[38;5;241m.\u001b[39mmode)\n",
      "\u001b[0;31mFileNotFoundError\u001b[0m: [Errno 2] No such file or directory: '/Users/caranix/Documents/GitHub/AlamanceTurnout/results_pct_20121106.txt'"
     ]
    }
   ],
   "source": [
    "# read in total votes by precinct from 2012 \n",
    "precinct_turnout_2012= pd.read_csv(\"/Users/caranix/Documents/GitHub/AlamanceTurnout/results_pct_20121106.txt\")"
   ]
  },
  {
   "cell_type": "code",
   "execution_count": 311,
   "id": "baa02c08",
   "metadata": {},
   "outputs": [],
   "source": [
    "pto_2012= precinct_turnout_2012[precinct_turnout_2012[\"county\"] == \"ALAMANCE\"]\n",
    "pto_2012_alamance = pto_2012[pto_2012[\"contest\"] == \"PRESIDENT AND VICE PRESIDENT OF THE UNITED STATES\"]"
   ]
  },
  {
   "cell_type": "code",
   "execution_count": 314,
   "id": "e102c6d2",
   "metadata": {},
   "outputs": [
    {
     "data": {
      "text/plain": [
       "67776"
      ]
     },
     "execution_count": 314,
     "metadata": {},
     "output_type": "execute_result"
    }
   ],
   "source": [
    "np.sum(pto_2012_alamance['total votes']) # 67k votes in county "
   ]
  },
  {
   "cell_type": "code",
   "execution_count": 318,
   "id": "6b00fdb2",
   "metadata": {},
   "outputs": [
    {
     "data": {
      "text/plain": [
       "40"
      ]
     },
     "execution_count": 318,
     "metadata": {},
     "output_type": "execute_result"
    }
   ],
   "source": [
    "#len(pto_2012_alamance['precinct'].unique())"
   ]
  },
  {
   "cell_type": "code",
   "execution_count": 443,
   "id": "711f6f23",
   "metadata": {},
   "outputs": [],
   "source": [
    "#pto_2012_alamance['precinct'].unique()"
   ]
  },
  {
   "cell_type": "code",
   "execution_count": 328,
   "id": "96198d51",
   "metadata": {},
   "outputs": [
    {
     "name": "stderr",
     "output_type": "stream",
     "text": [
      "/var/folders/09/l3m63nj90fg1l2jshjp_hd5w0000gn/T/ipykernel_47245/3202452234.py:1: SettingWithCopyWarning: \n",
      "A value is trying to be set on a copy of a slice from a DataFrame.\n",
      "Try using .loc[row_indexer,col_indexer] = value instead\n",
      "\n",
      "See the caveats in the documentation: https://pandas.pydata.org/pandas-docs/stable/user_guide/indexing.html#returning-a-view-versus-a-copy\n",
      "  pto_2012_alamance['precinct_cleaned']= pto_2012_alamance['precinct'].str.split(\"_\").str[1]\n"
     ]
    }
   ],
   "source": [
    "# extract precinct name\n",
    "\n",
    "pto_2012_alamance['precinct_cleaned']= pto_2012_alamance['precinct'].str.split(\"_\").str[1]"
   ]
  },
  {
   "cell_type": "code",
   "execution_count": 339,
   "id": "687ba708",
   "metadata": {},
   "outputs": [],
   "source": [
    "# get count of voters within each precinct \n",
    "voter_count_2012= pto_2012_alamance[['precinct_cleaned','total votes']].groupby('precinct_cleaned').sum('total_votes')"
   ]
  },
  {
   "cell_type": "code",
   "execution_count": 444,
   "id": "e0e269eb",
   "metadata": {},
   "outputs": [],
   "source": [
    "#pto_2012_alamance['precinct_cleaned'].unique()"
   ]
  },
  {
   "cell_type": "code",
   "execution_count": 424,
   "id": "db7a574d",
   "metadata": {},
   "outputs": [
    {
     "name": "stderr",
     "output_type": "stream",
     "text": [
      "/var/folders/09/l3m63nj90fg1l2jshjp_hd5w0000gn/T/ipykernel_47245/1366575137.py:1: DtypeWarning: Columns (25,27,28,29) have mixed types. Specify dtype option on import or set low_memory=False.\n",
      "  vf_2012= pd.read_csv(\"/Users/caranix/Documents/murmuration/NC_Voterfiles_Alamance/VR_Snapshot_20121106.csv\")\n"
     ]
    }
   ],
   "source": [
    "# read in voter file from 2012, i.e. how many eligible voters there were \n",
    "vf_2012= pd.read_csv(\"/Users/caranix/Documents/murmuration/NC_Voterfiles_Alamance/VR_Snapshot_20121106.csv\")"
   ]
  },
  {
   "cell_type": "code",
   "execution_count": 425,
   "id": "f5b4fb02",
   "metadata": {},
   "outputs": [],
   "source": [
    "vf_2012_a = vf_2012[vf_2012[\"voter_status_desc\"] ==\"ACTIVE\"]"
   ]
  },
  {
   "cell_type": "code",
   "execution_count": 431,
   "id": "091d5160",
   "metadata": {},
   "outputs": [],
   "source": [
    "vf_2012_a_cut= vf_2012_a[['precinct_abbrv', 'precinct_desc', 'voter_reg_num']]"
   ]
  },
  {
   "cell_type": "code",
   "execution_count": 445,
   "id": "4ff782c5",
   "metadata": {},
   "outputs": [],
   "source": [
    "#vf_2012_a_cut['precinct_desc'].unique()"
   ]
  },
  {
   "cell_type": "code",
   "execution_count": 434,
   "id": "0f310dfa",
   "metadata": {},
   "outputs": [
    {
     "data": {
      "text/plain": [
       "['MELVILLE 4']"
      ]
     },
     "execution_count": 434,
     "metadata": {},
     "output_type": "execute_result"
    }
   ],
   "source": [
    "# what is missing? Mellvile 4 - will assign mean turnout instead! \n",
    "list(set(vf_2012_a_cut['precinct_desc']) - set(pto_2012_alamance['precinct_cleaned'])) "
   ]
  },
  {
   "cell_type": "code",
   "execution_count": 435,
   "id": "bd0a2d5d",
   "metadata": {},
   "outputs": [],
   "source": [
    "# get # of registered voters \n",
    "registered_voter_count= vf_2012_a_cut[['voter_reg_num','precinct_desc']].groupby('precinct_desc').count()"
   ]
  },
  {
   "cell_type": "code",
   "execution_count": 436,
   "id": "1ea0cb52",
   "metadata": {},
   "outputs": [],
   "source": [
    "registered_voter_count= registered_voter_count.reset_index()"
   ]
  },
  {
   "cell_type": "code",
   "execution_count": 437,
   "id": "ceb47ff0",
   "metadata": {},
   "outputs": [],
   "source": [
    "# combine two data sets, to have number of voters v number of registered voters \n",
    "precinct_turnout_2012= pd.merge(registered_voter_count, voter_count_2012, right_on = \"precinct_cleaned\", left_on= 'precinct_desc', how = 'left')"
   ]
  },
  {
   "cell_type": "code",
   "execution_count": 472,
   "id": "a94a5af2",
   "metadata": {},
   "outputs": [
    {
     "data": {
      "text/html": [
       "<div>\n",
       "<style scoped>\n",
       "    .dataframe tbody tr th:only-of-type {\n",
       "        vertical-align: middle;\n",
       "    }\n",
       "\n",
       "    .dataframe tbody tr th {\n",
       "        vertical-align: top;\n",
       "    }\n",
       "\n",
       "    .dataframe thead th {\n",
       "        text-align: right;\n",
       "    }\n",
       "</style>\n",
       "<table border=\"1\" class=\"dataframe\">\n",
       "  <thead>\n",
       "    <tr style=\"text-align: right;\">\n",
       "      <th></th>\n",
       "      <th>precinct_desc</th>\n",
       "      <th>voter_reg_num</th>\n",
       "      <th>precinct_cleaned</th>\n",
       "      <th>total votes</th>\n",
       "      <th>turnout_pct</th>\n",
       "      <th>year</th>\n",
       "    </tr>\n",
       "  </thead>\n",
       "  <tbody>\n",
       "    <tr>\n",
       "      <th>0</th>\n",
       "      <td>ALBRIGHT</td>\n",
       "      <td>2681</td>\n",
       "      <td>ALBRIGHT</td>\n",
       "      <td>2043.0</td>\n",
       "      <td>0.762029</td>\n",
       "      <td>2012</td>\n",
       "    </tr>\n",
       "    <tr>\n",
       "      <th>1</th>\n",
       "      <td>BOONE 5</td>\n",
       "      <td>3524</td>\n",
       "      <td>BOONE 5</td>\n",
       "      <td>2291.0</td>\n",
       "      <td>0.650114</td>\n",
       "      <td>2012</td>\n",
       "    </tr>\n",
       "    <tr>\n",
       "      <th>2</th>\n",
       "      <td>BURLINGTON 10</td>\n",
       "      <td>1463</td>\n",
       "      <td>BURLINGTON 10</td>\n",
       "      <td>1108.0</td>\n",
       "      <td>0.757348</td>\n",
       "      <td>2012</td>\n",
       "    </tr>\n",
       "    <tr>\n",
       "      <th>3</th>\n",
       "      <td>BURLINGTON 4</td>\n",
       "      <td>1678</td>\n",
       "      <td>BURLINGTON 4</td>\n",
       "      <td>1283.0</td>\n",
       "      <td>0.764601</td>\n",
       "      <td>2012</td>\n",
       "    </tr>\n",
       "    <tr>\n",
       "      <th>4</th>\n",
       "      <td>BURLINGTON 5</td>\n",
       "      <td>1849</td>\n",
       "      <td>BURLINGTON 5</td>\n",
       "      <td>1396.0</td>\n",
       "      <td>0.755003</td>\n",
       "      <td>2012</td>\n",
       "    </tr>\n",
       "  </tbody>\n",
       "</table>\n",
       "</div>"
      ],
      "text/plain": [
       "   precinct_desc  voter_reg_num precinct_cleaned  total votes  turnout_pct  \\\n",
       "0       ALBRIGHT           2681         ALBRIGHT       2043.0     0.762029   \n",
       "1        BOONE 5           3524          BOONE 5       2291.0     0.650114   \n",
       "2  BURLINGTON 10           1463    BURLINGTON 10       1108.0     0.757348   \n",
       "3   BURLINGTON 4           1678     BURLINGTON 4       1283.0     0.764601   \n",
       "4   BURLINGTON 5           1849     BURLINGTON 5       1396.0     0.755003   \n",
       "\n",
       "   year  \n",
       "0  2012  \n",
       "1  2012  \n",
       "2  2012  \n",
       "3  2012  \n",
       "4  2012  "
      ]
     },
     "execution_count": 472,
     "metadata": {},
     "output_type": "execute_result"
    }
   ],
   "source": [
    "precinct_turnout_2012[\"turnout_pct\"]= precinct_turnout_2012['total votes']/ precinct_turnout_2012['voter_reg_num']\n",
    "\n",
    "# replace NA with mean turnout note: this only impacts 5 people \n",
    "precinct_turnout_2012.fillna(precinct_turnout_2012['turnout_pct'].mean(), inplace=True)\n",
    "\n",
    "precinct_turnout_2012['year'] = 2012 \n",
    "\n",
    "precinct_turnout_2012.head()"
   ]
  },
  {
   "cell_type": "code",
   "execution_count": 484,
   "id": "be092c6d",
   "metadata": {},
   "outputs": [],
   "source": [
    "alamace_county_merged= pd.merge(alamace_county_merged, precinct_turnout_2012, left_on='precinct_desc' , right_on= 'precinct_cleaned', how='left')\n"
   ]
  },
  {
   "cell_type": "code",
   "execution_count": 485,
   "id": "54892604",
   "metadata": {},
   "outputs": [],
   "source": [
    "# now add to alamance_2016_vf_data\n",
    "\n",
    "alamace_county_merged.to_csv(\"alamance_2016_vf_data.csv\", index=False)\n"
   ]
  },
  {
   "cell_type": "markdown",
   "id": "18e9c921",
   "metadata": {},
   "source": [
    "### now do this all again for 2016! \n"
   ]
  },
  {
   "cell_type": "code",
   "execution_count": 369,
   "id": "88dc3670",
   "metadata": {},
   "outputs": [],
   "source": [
    "precinct_turnout_2016= pd.read_csv(\"/Users/caranix/Documents/murmuration/NC precinct-level results/results_pct_20161108.txt\"\n",
    ", sep='\\t')"
   ]
  },
  {
   "cell_type": "code",
   "execution_count": 377,
   "id": "07955101",
   "metadata": {},
   "outputs": [],
   "source": [
    "precinct_turnout_2016= precinct_turnout_2016[precinct_turnout_2016['Contest Name']=='US PRESIDENT']\n",
    "pto_2016_alamance = precinct_turnout_2016[precinct_turnout_2016[\"County\"] == \"ALAMANCE\"]"
   ]
  },
  {
   "cell_type": "code",
   "execution_count": 447,
   "id": "434bd5bd",
   "metadata": {},
   "outputs": [],
   "source": [
    "# pto_2016_alamance"
   ]
  },
  {
   "cell_type": "code",
   "execution_count": 379,
   "id": "1e12c0cd",
   "metadata": {},
   "outputs": [
    {
     "data": {
      "text/plain": [
       "71157"
      ]
     },
     "execution_count": 379,
     "metadata": {},
     "output_type": "execute_result"
    }
   ],
   "source": [
    "np.sum(pto_2016_alamance['Total Votes'])"
   ]
  },
  {
   "cell_type": "code",
   "execution_count": 383,
   "id": "57a50189",
   "metadata": {},
   "outputs": [
    {
     "data": {
      "text/plain": [
       "array(['09S', '06E', '13', '12W', '05', '02', '03W', '03N2', '11', '12E',\n",
       "       '06N', '06S', '063', '10S', '127', '125', '103', '1210', '064',\n",
       "       '03C', '09N', '129', '126', '07', '04', '12N', '12S', '124', '01',\n",
       "       '128', '10N', '03S', '03N', '035', '06W', '08N', '08S'],\n",
       "      dtype=object)"
      ]
     },
     "execution_count": 383,
     "metadata": {},
     "output_type": "execute_result"
    }
   ],
   "source": [
    "pto_2016_alamance['Precinct'].unique()"
   ]
  },
  {
   "cell_type": "code",
   "execution_count": 391,
   "id": "c2cb6a68",
   "metadata": {},
   "outputs": [
    {
     "name": "stderr",
     "output_type": "stream",
     "text": [
      "/var/folders/09/l3m63nj90fg1l2jshjp_hd5w0000gn/T/ipykernel_47245/2013523679.py:1: SettingWithCopyWarning: \n",
      "A value is trying to be set on a copy of a slice from a DataFrame.\n",
      "Try using .loc[row_indexer,col_indexer] = value instead\n",
      "\n",
      "See the caveats in the documentation: https://pandas.pydata.org/pandas-docs/stable/user_guide/indexing.html#returning-a-view-versus-a-copy\n",
      "  pto_2016_alamance['Precinct']= pto_2016_alamance['Precinct'].astype(str)\n"
     ]
    }
   ],
   "source": [
    "pto_2016_alamance['Precinct']= pto_2016_alamance['Precinct'].astype(str)"
   ]
  },
  {
   "cell_type": "code",
   "execution_count": 449,
   "id": "fe5c5346",
   "metadata": {},
   "outputs": [],
   "source": [
    "registered_voter_count_2016= vf_2016_a_cut[['voter_reg_num','precinct_desc']].groupby('precinct_desc').count()"
   ]
  },
  {
   "cell_type": "code",
   "execution_count": 384,
   "id": "2f50e237",
   "metadata": {},
   "outputs": [],
   "source": [
    "# read in mapping code --> name \n",
    "\n",
    "id_name= pd.read_csv(\"precinct_id_to_name_2020.csv\")"
   ]
  },
  {
   "cell_type": "code",
   "execution_count": 393,
   "id": "c21ac24d",
   "metadata": {},
   "outputs": [],
   "source": [
    "id_name= id_name[['prec_id', \"enr_desc\"]]\n",
    "id_name['enr_desc']= id_name['enr_desc'].astype(str)"
   ]
  },
  {
   "cell_type": "code",
   "execution_count": 418,
   "id": "1380b5c2",
   "metadata": {},
   "outputs": [],
   "source": [
    "# changing 10S1 to 10S to match desitnation \n",
    "id_name.loc[id_name['prec_id']=='10S1','prec_id'] = '10S'"
   ]
  },
  {
   "cell_type": "code",
   "execution_count": 420,
   "id": "f219147c",
   "metadata": {},
   "outputs": [],
   "source": [
    "pto_2016_alamance_v2= pd.merge(pto_2016_alamance, id_name, left_on='Precinct', right_on='prec_id', how='left' )"
   ]
  },
  {
   "cell_type": "code",
   "execution_count": 451,
   "id": "7ccf7ae9",
   "metadata": {},
   "outputs": [],
   "source": [
    "# pto_2016_alamance_v2[pto_2016_alamance_v2['enr_desc'].isna()]"
   ]
  },
  {
   "cell_type": "code",
   "execution_count": 452,
   "id": "514d1f9f",
   "metadata": {},
   "outputs": [],
   "source": [
    "# closest match is 10S1= \"SOUTH MELVILLE\""
   ]
  },
  {
   "cell_type": "code",
   "execution_count": 468,
   "id": "f5518632",
   "metadata": {},
   "outputs": [],
   "source": [
    "pto_2016_alamance_v3= pto_2016_alamance_v2.groupby(\"enr_desc\").sum('Total Votes').reset_index()"
   ]
  },
  {
   "cell_type": "code",
   "execution_count": 470,
   "id": "b876e0d3",
   "metadata": {},
   "outputs": [],
   "source": [
    "# combine datasets! \n",
    "pto_2016_alamance_v4= pd.merge(pto_2016_alamance_v3, registered_voter_count_2016, left_on='enr_desc', right_on='precinct_desc', how='left' )\n",
    "\n"
   ]
  },
  {
   "cell_type": "code",
   "execution_count": 474,
   "id": "0001f4e6",
   "metadata": {},
   "outputs": [
    {
     "data": {
      "text/html": [
       "<div>\n",
       "<style scoped>\n",
       "    .dataframe tbody tr th:only-of-type {\n",
       "        vertical-align: middle;\n",
       "    }\n",
       "\n",
       "    .dataframe tbody tr th {\n",
       "        vertical-align: top;\n",
       "    }\n",
       "\n",
       "    .dataframe thead th {\n",
       "        text-align: right;\n",
       "    }\n",
       "</style>\n",
       "<table border=\"1\" class=\"dataframe\">\n",
       "  <thead>\n",
       "    <tr style=\"text-align: right;\">\n",
       "      <th></th>\n",
       "      <th>enr_desc</th>\n",
       "      <th>Contest Group ID</th>\n",
       "      <th>Vote For</th>\n",
       "      <th>Election Day</th>\n",
       "      <th>One Stop</th>\n",
       "      <th>Absentee by Mail</th>\n",
       "      <th>Provisional</th>\n",
       "      <th>Total Votes</th>\n",
       "      <th>Unnamed: 14</th>\n",
       "      <th>voter_reg_num</th>\n",
       "      <th>turnout_pct</th>\n",
       "      <th>year</th>\n",
       "    </tr>\n",
       "  </thead>\n",
       "  <tbody>\n",
       "    <tr>\n",
       "      <th>0</th>\n",
       "      <td>ALBRIGHT</td>\n",
       "      <td>5005</td>\n",
       "      <td>5</td>\n",
       "      <td>913</td>\n",
       "      <td>1179</td>\n",
       "      <td>88</td>\n",
       "      <td>5</td>\n",
       "      <td>2185</td>\n",
       "      <td>0.0</td>\n",
       "      <td>2522</td>\n",
       "      <td>0.866376</td>\n",
       "      <td>2016</td>\n",
       "    </tr>\n",
       "    <tr>\n",
       "      <th>1</th>\n",
       "      <td>BOONE 5</td>\n",
       "      <td>5005</td>\n",
       "      <td>5</td>\n",
       "      <td>1074</td>\n",
       "      <td>1388</td>\n",
       "      <td>111</td>\n",
       "      <td>11</td>\n",
       "      <td>2584</td>\n",
       "      <td>0.0</td>\n",
       "      <td>3311</td>\n",
       "      <td>0.780429</td>\n",
       "      <td>2016</td>\n",
       "    </tr>\n",
       "    <tr>\n",
       "      <th>2</th>\n",
       "      <td>BURLINGTON 10</td>\n",
       "      <td>5005</td>\n",
       "      <td>5</td>\n",
       "      <td>502</td>\n",
       "      <td>672</td>\n",
       "      <td>45</td>\n",
       "      <td>11</td>\n",
       "      <td>1230</td>\n",
       "      <td>0.0</td>\n",
       "      <td>1558</td>\n",
       "      <td>0.789474</td>\n",
       "      <td>2016</td>\n",
       "    </tr>\n",
       "    <tr>\n",
       "      <th>3</th>\n",
       "      <td>BURLINGTON 4</td>\n",
       "      <td>5005</td>\n",
       "      <td>5</td>\n",
       "      <td>491</td>\n",
       "      <td>711</td>\n",
       "      <td>57</td>\n",
       "      <td>4</td>\n",
       "      <td>1263</td>\n",
       "      <td>0.0</td>\n",
       "      <td>1524</td>\n",
       "      <td>0.828740</td>\n",
       "      <td>2016</td>\n",
       "    </tr>\n",
       "    <tr>\n",
       "      <th>4</th>\n",
       "      <td>BURLINGTON 5</td>\n",
       "      <td>5005</td>\n",
       "      <td>5</td>\n",
       "      <td>519</td>\n",
       "      <td>859</td>\n",
       "      <td>67</td>\n",
       "      <td>7</td>\n",
       "      <td>1452</td>\n",
       "      <td>0.0</td>\n",
       "      <td>1724</td>\n",
       "      <td>0.842227</td>\n",
       "      <td>2016</td>\n",
       "    </tr>\n",
       "  </tbody>\n",
       "</table>\n",
       "</div>"
      ],
      "text/plain": [
       "        enr_desc  Contest Group ID  Vote For  Election Day  One Stop  \\\n",
       "0       ALBRIGHT              5005         5           913      1179   \n",
       "1        BOONE 5              5005         5          1074      1388   \n",
       "2  BURLINGTON 10              5005         5           502       672   \n",
       "3   BURLINGTON 4              5005         5           491       711   \n",
       "4   BURLINGTON 5              5005         5           519       859   \n",
       "\n",
       "   Absentee by Mail  Provisional  Total Votes  Unnamed: 14  voter_reg_num  \\\n",
       "0                88            5         2185          0.0           2522   \n",
       "1               111           11         2584          0.0           3311   \n",
       "2                45           11         1230          0.0           1558   \n",
       "3                57            4         1263          0.0           1524   \n",
       "4                67            7         1452          0.0           1724   \n",
       "\n",
       "   turnout_pct  year  \n",
       "0     0.866376  2016  \n",
       "1     0.780429  2016  \n",
       "2     0.789474  2016  \n",
       "3     0.828740  2016  \n",
       "4     0.842227  2016  "
      ]
     },
     "execution_count": 474,
     "metadata": {},
     "output_type": "execute_result"
    }
   ],
   "source": [
    "pto_2016_alamance_v4[\"turnout_pct\"]= pto_2016_alamance_v4['Total Votes']/ pto_2016_alamance_v4['voter_reg_num']\n",
    "\n",
    "# replace NA with mean turnout note: this only impacts 5 people \n",
    "pto_2016_alamance_v4.fillna(pto_2016_alamance_v4['turnout_pct'].mean(), inplace=True)\n",
    "\n",
    "pto_2016_alamance_v4['year'] = 2016\n",
    "\n",
    "pto_2016_alamance_v4.head()"
   ]
  },
  {
   "cell_type": "code",
   "execution_count": 480,
   "id": "dee34acf",
   "metadata": {},
   "outputs": [],
   "source": [
    "#alamace_county_merged_2020['precinct_desc']"
   ]
  },
  {
   "cell_type": "code",
   "execution_count": 487,
   "id": "f93d105c",
   "metadata": {},
   "outputs": [],
   "source": [
    "alamace_county_merged_2020= pd.merge(alamace_county_merged_2020, pto_2016_alamance_v4, left_on='precinct_desc' , right_on= 'enr_desc', how='left')\n"
   ]
  },
  {
   "cell_type": "code",
   "execution_count": 488,
   "id": "0761daac",
   "metadata": {},
   "outputs": [],
   "source": [
    "alamace_county_merged_2020.to_csv(\"alamance_2020_vf_data.csv\", index=False)\n"
   ]
  },
  {
   "cell_type": "code",
   "execution_count": null,
   "id": "be0e8adb",
   "metadata": {},
   "outputs": [],
   "source": []
  }
 ],
 "metadata": {
  "kernelspec": {
   "display_name": "Python 3 (ipykernel)",
   "language": "python",
   "name": "python3"
  },
  "language_info": {
   "codemirror_mode": {
    "name": "ipython",
    "version": 3
   },
   "file_extension": ".py",
   "mimetype": "text/x-python",
   "name": "python",
   "nbconvert_exporter": "python",
   "pygments_lexer": "ipython3",
   "version": "3.11.5"
  }
 },
 "nbformat": 4,
 "nbformat_minor": 5
}
