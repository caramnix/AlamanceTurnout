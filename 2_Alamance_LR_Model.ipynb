{
 "cells": [
  {
   "cell_type": "markdown",
   "id": "a49ea20b",
   "metadata": {},
   "source": [
    "# Predicting Turnout in 2020 General Election for Alamance County, NC"
   ]
  },
  {
   "cell_type": "code",
   "execution_count": null,
   "id": "9b4a7536",
   "metadata": {},
   "outputs": [],
   "source": [
    "# written by @caramnix 12.28.24 \n",
    "# goal: predict turnout at individual level in Alamance County, NC for 2020 General election "
   ]
  },
  {
   "cell_type": "code",
   "execution_count": 2,
   "id": "1610aff0",
   "metadata": {},
   "outputs": [],
   "source": [
    "# imports \n",
    "import pandas as pd\n",
    "import matplotlib.pyplot as plt\n",
    "import numpy as np\n",
    "from sklearn.linear_model import LogisticRegression\n",
    "from sklearn.metrics import classification_report, confusion_matrix\n",
    "from sklearn.preprocessing import OneHotEncoder\n",
    "import os\n",
    "import statsmodels.api as sm\n",
    "from sklearn import metrics"
   ]
  },
  {
   "cell_type": "code",
   "execution_count": 3,
   "id": "7c84982d",
   "metadata": {},
   "outputs": [],
   "source": [
    "os.chdir(\"/Users/caranix/Documents/GitHub/AlamanceTurnout\")"
   ]
  },
  {
   "cell_type": "markdown",
   "id": "3e56b02a",
   "metadata": {},
   "source": [
    "## Read in 2016 vf data for training"
   ]
  },
  {
   "cell_type": "code",
   "execution_count": 4,
   "id": "1aeda070",
   "metadata": {},
   "outputs": [],
   "source": [
    "df= pd.read_csv(\"alamance_2016_vf_data.csv\")"
   ]
  },
  {
   "cell_type": "code",
   "execution_count": 5,
   "id": "42de364c",
   "metadata": {},
   "outputs": [],
   "source": [
    "# I did mess around with including age or age group, age group performed better! \n",
    "variables_to_one_hot_encode= ['race_code','ethnic_code', 'party_cd', 'sex_code', 'age_group']"
   ]
  },
  {
   "cell_type": "code",
   "execution_count": 6,
   "id": "cc72748e",
   "metadata": {},
   "outputs": [],
   "source": [
    "df_encoded = pd.get_dummies(df, columns=variables_to_one_hot_encode, drop_first=True)"
   ]
  },
  {
   "cell_type": "code",
   "execution_count": 7,
   "id": "1f15b212",
   "metadata": {},
   "outputs": [],
   "source": [
    "# create variable which is if voted in election in past year (2015 for 2016, 2019 for 2020)\n",
    "# note: this variable is misleading -- as not everyone in 2015 had an election to vote in \n",
    "\n",
    "df_encoded['2015_g']= df_encoded['2015_g'].astype(bool)\n",
    "df_encoded['2015_o']= df_encoded['2015_o'].astype(bool)\n",
    "df_encoded['voted_year_b4_eday'] = (df_encoded['2015_g'] | df_encoded['2015_o'])"
   ]
  },
  {
   "cell_type": "code",
   "execution_count": 8,
   "id": "78fd15f9",
   "metadata": {},
   "outputs": [],
   "source": [
    "df_encoded= df_encoded.rename(columns={'2016_p' :'voted_in_cycle_primary', \n",
    "                                       '2016_pr': 'voted_in_cycle_primary_runoff', \n",
    "                                       'voted_early_prior_to_2016_g': 'voted_early_prior_to_in_cycle_general'})"
   ]
  },
  {
   "cell_type": "markdown",
   "id": "d346984e",
   "metadata": {},
   "source": []
  },
  {
   "cell_type": "code",
   "execution_count": 9,
   "id": "24eda39a",
   "metadata": {},
   "outputs": [],
   "source": [
    "\n",
    "# use vote history from 2015 and 2016 \n",
    "# i.e. voted in any election in the year before election day? 1/0 \n",
    "# i.e. voted in primary in-cycle \n",
    "\n",
    "\n",
    "####  features to include: #####\n",
    "# voted_year_b4_eday : Did person vote in year before election day \n",
    "# voted_in_cycle_primary : Did person vote in the primary in-cycle \n",
    "# voted_in_cycle_primary_runoff : Did person vote in the primary in-cycle runoff election \n",
    "# voted_early_prior_to_in_cycle_general : Did person vote early prior to the in cycle general election? \n",
    "# race : reference category is Asian \n",
    "# age group : reference category is Age 18-26 \n",
    "# political party: reference is Dem \n",
    "# sex: reference is Female \n",
    "# in_cycle_reg : did person register in this cycle/ year, i.e. for 2020 general did they register in 2020 \n",
    "# turnout_pct: historical turnout oct for their precinct! \n",
    "\n",
    "\n",
    "feature_cols = ['voted_year_b4_eday', 'voted_in_cycle_primary', 'voted_early_prior_to_in_cycle_general', 'voted_in_cycle_primary_runoff',\n",
    "       'race_code_B', 'race_code_I', 'race_code_M', 'race_code_O', 'age_group_Age 26 - 40', 'age_group_Age 41 - 65','age_group_Age Over 66',\n",
    "       'race_code_U', 'race_code_W', 'ethnic_code_NL', 'ethnic_code_UN',\n",
    "       'party_cd_LIB', 'party_cd_REP', 'party_cd_UNA', 'sex_code_M',\n",
    "       'sex_code_U', 'in_cycle_reg', 'turnout_pct'] \n",
    "X_train = df_encoded[feature_cols] # Features\n",
    "y_train = df_encoded['2016_g'] # Target variable (voted or not in 2016 general!)"
   ]
  },
  {
   "cell_type": "code",
   "execution_count": 10,
   "id": "48a8c41a",
   "metadata": {},
   "outputs": [
    {
     "name": "stderr",
     "output_type": "stream",
     "text": [
      "/var/folders/09/l3m63nj90fg1l2jshjp_hd5w0000gn/T/ipykernel_52796/3719978495.py:3: SettingWithCopyWarning: \n",
      "A value is trying to be set on a copy of a slice from a DataFrame\n",
      "\n",
      "See the caveats in the documentation: https://pandas.pydata.org/pandas-docs/stable/user_guide/indexing.html#returning-a-view-versus-a-copy\n",
      "  X_train['voted_early_prior_to_in_cycle_general'].fillna(0, inplace=True)\n",
      "/var/folders/09/l3m63nj90fg1l2jshjp_hd5w0000gn/T/ipykernel_52796/3719978495.py:6: SettingWithCopyWarning: \n",
      "A value is trying to be set on a copy of a slice from a DataFrame\n",
      "\n",
      "See the caveats in the documentation: https://pandas.pydata.org/pandas-docs/stable/user_guide/indexing.html#returning-a-view-versus-a-copy\n",
      "  X_train['voted_in_cycle_primary'].fillna(0, inplace=True)\n",
      "/var/folders/09/l3m63nj90fg1l2jshjp_hd5w0000gn/T/ipykernel_52796/3719978495.py:9: SettingWithCopyWarning: \n",
      "A value is trying to be set on a copy of a slice from a DataFrame\n",
      "\n",
      "See the caveats in the documentation: https://pandas.pydata.org/pandas-docs/stable/user_guide/indexing.html#returning-a-view-versus-a-copy\n",
      "  X_train['voted_in_cycle_primary_runoff'].fillna(.5, inplace=True)\n"
     ]
    }
   ],
   "source": [
    "# for those who didn't vote prior to general, we have no data on if they would have voted early or not, \n",
    "# so fill NA's with 0's because they did not vote early (and did have opportunity too...most likely)\n",
    "X_train['voted_early_prior_to_in_cycle_general'].fillna(0, inplace=True)\n",
    "\n",
    "# Additionally, we fill NA's for voted in cycle primary with 0, because any registrerd voter could have voted in primary! (note: could filter based on registeration date to ensure we aren't assigning people who weren't registered yet 0's)\n",
    "X_train['voted_in_cycle_primary'].fillna(0, inplace=True)\n",
    "\n",
    "#Okay! now, for primary runoff it's a little trickier-- because not every person had opportunity to vote in a runoff (since both parties didn't have them, thus, fill in with .5, because we can't say they should eb negatively punished )\n",
    "X_train['voted_in_cycle_primary_runoff'].fillna(.5, inplace=True)"
   ]
  },
  {
   "cell_type": "code",
   "execution_count": 11,
   "id": "d1d0d10e",
   "metadata": {},
   "outputs": [
    {
     "data": {
      "text/plain": [
       "voted_year_b4_eday                       0\n",
       "voted_in_cycle_primary                   0\n",
       "voted_early_prior_to_in_cycle_general    0\n",
       "voted_in_cycle_primary_runoff            0\n",
       "race_code_B                              0\n",
       "race_code_I                              0\n",
       "race_code_M                              0\n",
       "race_code_O                              0\n",
       "age_group_Age 26 - 40                    0\n",
       "age_group_Age 41 - 65                    0\n",
       "age_group_Age Over 66                    0\n",
       "race_code_U                              0\n",
       "race_code_W                              0\n",
       "ethnic_code_NL                           0\n",
       "ethnic_code_UN                           0\n",
       "party_cd_LIB                             0\n",
       "party_cd_REP                             0\n",
       "party_cd_UNA                             0\n",
       "sex_code_M                               0\n",
       "sex_code_U                               0\n",
       "in_cycle_reg                             0\n",
       "turnout_pct                              3\n",
       "dtype: int64"
      ]
     },
     "execution_count": 11,
     "metadata": {},
     "output_type": "execute_result"
    }
   ],
   "source": [
    "# check to make sure after filling NA's that they there are no NA's-- log regression won't work w/ NA's \n",
    "X_train.isna().sum()"
   ]
  },
  {
   "cell_type": "code",
   "execution_count": 12,
   "id": "c87a99ee",
   "metadata": {},
   "outputs": [
    {
     "name": "stdout",
     "output_type": "stream",
     "text": [
      "20148\n",
      "0\n"
     ]
    },
    {
     "name": "stderr",
     "output_type": "stream",
     "text": [
      "/var/folders/09/l3m63nj90fg1l2jshjp_hd5w0000gn/T/ipykernel_52796/2283423663.py:2: SettingWithCopyWarning: \n",
      "A value is trying to be set on a copy of a slice from a DataFrame\n",
      "\n",
      "See the caveats in the documentation: https://pandas.pydata.org/pandas-docs/stable/user_guide/indexing.html#returning-a-view-versus-a-copy\n",
      "  X_train.fillna(X_train['turnout_pct'].mean(), inplace=True)\n"
     ]
    }
   ],
   "source": [
    "# fill in w/ mean if no turnout pct exists \n",
    "X_train.fillna(X_train['turnout_pct'].mean(), inplace=True)\n",
    "\n",
    "# Na's in outcome variable mean they were registered voters but have no voting history, so that means they didn't vote \n",
    "print(y_train.isna().sum()) \n",
    "\n",
    "y_train.fillna(0, inplace=True)\n",
    "\n",
    "print(y_train.isna().sum()) "
   ]
  },
  {
   "cell_type": "code",
   "execution_count": 13,
   "id": "6b400b51",
   "metadata": {},
   "outputs": [
    {
     "name": "stderr",
     "output_type": "stream",
     "text": [
      "/var/folders/09/l3m63nj90fg1l2jshjp_hd5w0000gn/T/ipykernel_52796/2895456401.py:3: SettingWithCopyWarning: \n",
      "A value is trying to be set on a copy of a slice from a DataFrame.\n",
      "Try using .loc[row_indexer,col_indexer] = value instead\n",
      "\n",
      "See the caveats in the documentation: https://pandas.pydata.org/pandas-docs/stable/user_guide/indexing.html#returning-a-view-versus-a-copy\n",
      "  X_train[['voted_year_b4_eday', 'race_code_B', 'race_code_I',\n"
     ]
    },
    {
     "name": "stdout",
     "output_type": "stream",
     "text": [
      "Optimization terminated successfully.\n",
      "         Current function value: 0.250545\n",
      "         Iterations 8\n"
     ]
    }
   ],
   "source": [
    "# some type conversion! \n",
    "y_train= y_train.astype(int)\n",
    "X_train[['voted_year_b4_eday', 'race_code_B', 'race_code_I',\n",
    "       'race_code_M', 'race_code_O', 'race_code_U', 'race_code_W',\n",
    "       'ethnic_code_NL', 'ethnic_code_UN', 'party_cd_LIB', 'party_cd_REP',\n",
    "       'party_cd_UNA', 'sex_code_M', 'sex_code_U', 'age_group_Age 26 - 40', 'age_group_Age 41 - 65', 'age_group_Age Over 66', \n",
    "         'in_cycle_reg',\n",
    "       ]]= X_train[['voted_year_b4_eday', 'race_code_B', 'race_code_I',\n",
    "       'race_code_M', 'race_code_O', 'race_code_U', 'race_code_W',\n",
    "       'ethnic_code_NL', 'ethnic_code_UN', 'party_cd_LIB', 'party_cd_REP',\n",
    "       'party_cd_UNA', 'sex_code_M', 'sex_code_U', 'in_cycle_reg', 'age_group_Age 26 - 40', 'age_group_Age 41 - 65','age_group_Age Over 66'\n",
    "       ]].astype(int)\n",
    "\n",
    "# our model!! wooO!! \n",
    "model= sm.Logit(np.asarray(y_train), sm.add_constant(np.asarray(X_train))).fit()\n",
    "\n"
   ]
  },
  {
   "cell_type": "code",
   "execution_count": 14,
   "id": "7c3ef374",
   "metadata": {},
   "outputs": [
    {
     "data": {
      "text/html": [
       "<table class=\"simpletable\">\n",
       "<caption>Logit Regression Results</caption>\n",
       "<tr>\n",
       "  <th>Dep. Variable:</th>           <td>y</td>        <th>  No. Observations:  </th>  <td> 86670</td> \n",
       "</tr>\n",
       "<tr>\n",
       "  <th>Model:</th>                 <td>Logit</td>      <th>  Df Residuals:      </th>  <td> 86647</td> \n",
       "</tr>\n",
       "<tr>\n",
       "  <th>Method:</th>                 <td>MLE</td>       <th>  Df Model:          </th>  <td>    22</td> \n",
       "</tr>\n",
       "<tr>\n",
       "  <th>Date:</th>            <td>Sat, 28 Dec 2024</td> <th>  Pseudo R-squ.:     </th>  <td>0.5841</td> \n",
       "</tr>\n",
       "<tr>\n",
       "  <th>Time:</th>                <td>11:42:48</td>     <th>  Log-Likelihood:    </th> <td> -21715.</td>\n",
       "</tr>\n",
       "<tr>\n",
       "  <th>converged:</th>             <td>True</td>       <th>  LL-Null:           </th> <td> -52218.</td>\n",
       "</tr>\n",
       "<tr>\n",
       "  <th>Covariance Type:</th>     <td>nonrobust</td>    <th>  LLR p-value:       </th>  <td> 0.000</td> \n",
       "</tr>\n",
       "</table>\n",
       "<table class=\"simpletable\">\n",
       "<tr>\n",
       "                    <td></td>                       <th>coef</th>     <th>std err</th>      <th>z</th>      <th>P>|z|</th>  <th>[0.025</th>    <th>0.975]</th>  \n",
       "</tr>\n",
       "<tr>\n",
       "  <th>coeff</th>                                 <td>   -0.9022</td> <td>    0.284</td> <td>   -3.175</td> <td> 0.001</td> <td>   -1.459</td> <td>   -0.345</td>\n",
       "</tr>\n",
       "<tr>\n",
       "  <th>voted_year_b4_eday</th>                    <td>   -3.3814</td> <td>    0.038</td> <td>  -88.280</td> <td> 0.000</td> <td>   -3.457</td> <td>   -3.306</td>\n",
       "</tr>\n",
       "<tr>\n",
       "  <th>voted_in_cycle_primary</th>                <td>    3.6563</td> <td>    0.052</td> <td>   70.436</td> <td> 0.000</td> <td>    3.555</td> <td>    3.758</td>\n",
       "</tr>\n",
       "<tr>\n",
       "  <th>voted_early_prior_to_in_cycle_general</th> <td>    0.9591</td> <td>    0.076</td> <td>   12.574</td> <td> 0.000</td> <td>    0.810</td> <td>    1.109</td>\n",
       "</tr>\n",
       "<tr>\n",
       "  <th>voted_in_cycle_primary_runoff</th>         <td>   -2.2117</td> <td>    0.063</td> <td>  -35.214</td> <td> 0.000</td> <td>   -2.335</td> <td>   -2.089</td>\n",
       "</tr>\n",
       "<tr>\n",
       "  <th>race_code_B</th>                           <td>   -0.0454</td> <td>    0.152</td> <td>   -0.298</td> <td> 0.766</td> <td>   -0.344</td> <td>    0.253</td>\n",
       "</tr>\n",
       "<tr>\n",
       "  <th>race_code_I</th>                           <td>   -0.1088</td> <td>    0.295</td> <td>   -0.369</td> <td> 0.712</td> <td>   -0.686</td> <td>    0.469</td>\n",
       "</tr>\n",
       "<tr>\n",
       "  <th>race_code_M</th>                           <td>   -0.1957</td> <td>    0.204</td> <td>   -0.958</td> <td> 0.338</td> <td>   -0.596</td> <td>    0.205</td>\n",
       "</tr>\n",
       "<tr>\n",
       "  <th>race_code_O</th>                           <td>   -0.4623</td> <td>    0.178</td> <td>   -2.603</td> <td> 0.009</td> <td>   -0.810</td> <td>   -0.114</td>\n",
       "</tr>\n",
       "<tr>\n",
       "  <th>age_group_Age 26 - 40</th>                 <td>    0.3828</td> <td>    0.037</td> <td>   10.381</td> <td> 0.000</td> <td>    0.311</td> <td>    0.455</td>\n",
       "</tr>\n",
       "<tr>\n",
       "  <th>age_group_Age 41 - 65</th>                 <td>    0.5305</td> <td>    0.043</td> <td>   12.320</td> <td> 0.000</td> <td>    0.446</td> <td>    0.615</td>\n",
       "</tr>\n",
       "<tr>\n",
       "  <th>age_group_Age Over 66</th>                 <td>    1.0851</td> <td>    0.041</td> <td>   26.415</td> <td> 0.000</td> <td>    1.005</td> <td>    1.166</td>\n",
       "</tr>\n",
       "<tr>\n",
       "  <th>race_code_U</th>                           <td>   -0.1250</td> <td>    0.168</td> <td>   -0.745</td> <td> 0.456</td> <td>   -0.454</td> <td>    0.204</td>\n",
       "</tr>\n",
       "<tr>\n",
       "  <th>race_code_W</th>                           <td>   -0.1258</td> <td>    0.150</td> <td>   -0.837</td> <td> 0.403</td> <td>   -0.420</td> <td>    0.169</td>\n",
       "</tr>\n",
       "<tr>\n",
       "  <th>ethnic_code_NL</th>                        <td>   -0.2126</td> <td>    0.090</td> <td>   -2.365</td> <td> 0.018</td> <td>   -0.389</td> <td>   -0.036</td>\n",
       "</tr>\n",
       "<tr>\n",
       "  <th>ethnic_code_UN</th>                        <td>   -0.3827</td> <td>    0.091</td> <td>   -4.213</td> <td> 0.000</td> <td>   -0.561</td> <td>   -0.205</td>\n",
       "</tr>\n",
       "<tr>\n",
       "  <th>party_cd_LIB</th>                          <td>   -0.2009</td> <td>    0.178</td> <td>   -1.128</td> <td> 0.259</td> <td>   -0.550</td> <td>    0.148</td>\n",
       "</tr>\n",
       "<tr>\n",
       "  <th>party_cd_REP</th>                          <td>    0.0608</td> <td>    0.036</td> <td>    1.712</td> <td> 0.087</td> <td>   -0.009</td> <td>    0.130</td>\n",
       "</tr>\n",
       "<tr>\n",
       "  <th>party_cd_UNA</th>                          <td>   -0.2631</td> <td>    0.034</td> <td>   -7.650</td> <td> 0.000</td> <td>   -0.331</td> <td>   -0.196</td>\n",
       "</tr>\n",
       "<tr>\n",
       "  <th>sex_code_M</th>                            <td>   -0.0211</td> <td>    0.026</td> <td>   -0.807</td> <td> 0.419</td> <td>   -0.072</td> <td>    0.030</td>\n",
       "</tr>\n",
       "<tr>\n",
       "  <th>sex_code_U</th>                            <td>   -0.0177</td> <td>    0.099</td> <td>   -0.179</td> <td> 0.858</td> <td>   -0.212</td> <td>    0.176</td>\n",
       "</tr>\n",
       "<tr>\n",
       "  <th>in_cycle_reg</th>                          <td>    1.4779</td> <td>    0.049</td> <td>   30.256</td> <td> 0.000</td> <td>    1.382</td> <td>    1.574</td>\n",
       "</tr>\n",
       "<tr>\n",
       "  <th>turnout_pct</th>                           <td>    3.1719</td> <td>    0.304</td> <td>   10.427</td> <td> 0.000</td> <td>    2.576</td> <td>    3.768</td>\n",
       "</tr>\n",
       "</table>"
      ],
      "text/latex": [
       "\\begin{center}\n",
       "\\begin{tabular}{lclc}\n",
       "\\toprule\n",
       "\\textbf{Dep. Variable:}                              &        y         & \\textbf{  No. Observations:  } &    86670    \\\\\n",
       "\\textbf{Model:}                                      &      Logit       & \\textbf{  Df Residuals:      } &    86647    \\\\\n",
       "\\textbf{Method:}                                     &       MLE        & \\textbf{  Df Model:          } &       22    \\\\\n",
       "\\textbf{Date:}                                       & Sat, 28 Dec 2024 & \\textbf{  Pseudo R-squ.:     } &   0.5841    \\\\\n",
       "\\textbf{Time:}                                       &     11:42:48     & \\textbf{  Log-Likelihood:    } &   -21715.   \\\\\n",
       "\\textbf{converged:}                                  &       True       & \\textbf{  LL-Null:           } &   -52218.   \\\\\n",
       "\\textbf{Covariance Type:}                            &    nonrobust     & \\textbf{  LLR p-value:       } &    0.000    \\\\\n",
       "\\bottomrule\n",
       "\\end{tabular}\n",
       "\\begin{tabular}{lcccccc}\n",
       "                                                     & \\textbf{coef} & \\textbf{std err} & \\textbf{z} & \\textbf{P$> |$z$|$} & \\textbf{[0.025} & \\textbf{0.975]}  \\\\\n",
       "\\midrule\n",
       "\\textbf{coeff}                                       &      -0.9022  &        0.284     &    -3.175  &         0.001        &       -1.459    &       -0.345     \\\\\n",
       "\\textbf{voted\\_year\\_b4\\_eday}                       &      -3.3814  &        0.038     &   -88.280  &         0.000        &       -3.457    &       -3.306     \\\\\n",
       "\\textbf{voted\\_in\\_cycle\\_primary}                   &       3.6563  &        0.052     &    70.436  &         0.000        &        3.555    &        3.758     \\\\\n",
       "\\textbf{voted\\_early\\_prior\\_to\\_in\\_cycle\\_general} &       0.9591  &        0.076     &    12.574  &         0.000        &        0.810    &        1.109     \\\\\n",
       "\\textbf{voted\\_in\\_cycle\\_primary\\_runoff}           &      -2.2117  &        0.063     &   -35.214  &         0.000        &       -2.335    &       -2.089     \\\\\n",
       "\\textbf{race\\_code\\_B}                               &      -0.0454  &        0.152     &    -0.298  &         0.766        &       -0.344    &        0.253     \\\\\n",
       "\\textbf{race\\_code\\_I}                               &      -0.1088  &        0.295     &    -0.369  &         0.712        &       -0.686    &        0.469     \\\\\n",
       "\\textbf{race\\_code\\_M}                               &      -0.1957  &        0.204     &    -0.958  &         0.338        &       -0.596    &        0.205     \\\\\n",
       "\\textbf{race\\_code\\_O}                               &      -0.4623  &        0.178     &    -2.603  &         0.009        &       -0.810    &       -0.114     \\\\\n",
       "\\textbf{age\\_group\\_Age 26 - 40}                     &       0.3828  &        0.037     &    10.381  &         0.000        &        0.311    &        0.455     \\\\\n",
       "\\textbf{age\\_group\\_Age 41 - 65}                     &       0.5305  &        0.043     &    12.320  &         0.000        &        0.446    &        0.615     \\\\\n",
       "\\textbf{age\\_group\\_Age Over 66}                     &       1.0851  &        0.041     &    26.415  &         0.000        &        1.005    &        1.166     \\\\\n",
       "\\textbf{race\\_code\\_U}                               &      -0.1250  &        0.168     &    -0.745  &         0.456        &       -0.454    &        0.204     \\\\\n",
       "\\textbf{race\\_code\\_W}                               &      -0.1258  &        0.150     &    -0.837  &         0.403        &       -0.420    &        0.169     \\\\\n",
       "\\textbf{ethnic\\_code\\_NL}                            &      -0.2126  &        0.090     &    -2.365  &         0.018        &       -0.389    &       -0.036     \\\\\n",
       "\\textbf{ethnic\\_code\\_UN}                            &      -0.3827  &        0.091     &    -4.213  &         0.000        &       -0.561    &       -0.205     \\\\\n",
       "\\textbf{party\\_cd\\_LIB}                              &      -0.2009  &        0.178     &    -1.128  &         0.259        &       -0.550    &        0.148     \\\\\n",
       "\\textbf{party\\_cd\\_REP}                              &       0.0608  &        0.036     &     1.712  &         0.087        &       -0.009    &        0.130     \\\\\n",
       "\\textbf{party\\_cd\\_UNA}                              &      -0.2631  &        0.034     &    -7.650  &         0.000        &       -0.331    &       -0.196     \\\\\n",
       "\\textbf{sex\\_code\\_M}                                &      -0.0211  &        0.026     &    -0.807  &         0.419        &       -0.072    &        0.030     \\\\\n",
       "\\textbf{sex\\_code\\_U}                                &      -0.0177  &        0.099     &    -0.179  &         0.858        &       -0.212    &        0.176     \\\\\n",
       "\\textbf{in\\_cycle\\_reg}                              &       1.4779  &        0.049     &    30.256  &         0.000        &        1.382    &        1.574     \\\\\n",
       "\\textbf{turnout\\_pct}                                &       3.1719  &        0.304     &    10.427  &         0.000        &        2.576    &        3.768     \\\\\n",
       "\\bottomrule\n",
       "\\end{tabular}\n",
       "%\\caption{Logit Regression Results}\n",
       "\\end{center}"
      ],
      "text/plain": [
       "<class 'statsmodels.iolib.summary.Summary'>\n",
       "\"\"\"\n",
       "                           Logit Regression Results                           \n",
       "==============================================================================\n",
       "Dep. Variable:                      y   No. Observations:                86670\n",
       "Model:                          Logit   Df Residuals:                    86647\n",
       "Method:                           MLE   Df Model:                           22\n",
       "Date:                Sat, 28 Dec 2024   Pseudo R-squ.:                  0.5841\n",
       "Time:                        11:42:48   Log-Likelihood:                -21715.\n",
       "converged:                       True   LL-Null:                       -52218.\n",
       "Covariance Type:            nonrobust   LLR p-value:                     0.000\n",
       "=========================================================================================================\n",
       "                                            coef    std err          z      P>|z|      [0.025      0.975]\n",
       "---------------------------------------------------------------------------------------------------------\n",
       "coeff                                    -0.9022      0.284     -3.175      0.001      -1.459      -0.345\n",
       "voted_year_b4_eday                       -3.3814      0.038    -88.280      0.000      -3.457      -3.306\n",
       "voted_in_cycle_primary                    3.6563      0.052     70.436      0.000       3.555       3.758\n",
       "voted_early_prior_to_in_cycle_general     0.9591      0.076     12.574      0.000       0.810       1.109\n",
       "voted_in_cycle_primary_runoff            -2.2117      0.063    -35.214      0.000      -2.335      -2.089\n",
       "race_code_B                              -0.0454      0.152     -0.298      0.766      -0.344       0.253\n",
       "race_code_I                              -0.1088      0.295     -0.369      0.712      -0.686       0.469\n",
       "race_code_M                              -0.1957      0.204     -0.958      0.338      -0.596       0.205\n",
       "race_code_O                              -0.4623      0.178     -2.603      0.009      -0.810      -0.114\n",
       "age_group_Age 26 - 40                     0.3828      0.037     10.381      0.000       0.311       0.455\n",
       "age_group_Age 41 - 65                     0.5305      0.043     12.320      0.000       0.446       0.615\n",
       "age_group_Age Over 66                     1.0851      0.041     26.415      0.000       1.005       1.166\n",
       "race_code_U                              -0.1250      0.168     -0.745      0.456      -0.454       0.204\n",
       "race_code_W                              -0.1258      0.150     -0.837      0.403      -0.420       0.169\n",
       "ethnic_code_NL                           -0.2126      0.090     -2.365      0.018      -0.389      -0.036\n",
       "ethnic_code_UN                           -0.3827      0.091     -4.213      0.000      -0.561      -0.205\n",
       "party_cd_LIB                             -0.2009      0.178     -1.128      0.259      -0.550       0.148\n",
       "party_cd_REP                              0.0608      0.036      1.712      0.087      -0.009       0.130\n",
       "party_cd_UNA                             -0.2631      0.034     -7.650      0.000      -0.331      -0.196\n",
       "sex_code_M                               -0.0211      0.026     -0.807      0.419      -0.072       0.030\n",
       "sex_code_U                               -0.0177      0.099     -0.179      0.858      -0.212       0.176\n",
       "in_cycle_reg                              1.4779      0.049     30.256      0.000       1.382       1.574\n",
       "turnout_pct                               3.1719      0.304     10.427      0.000       2.576       3.768\n",
       "=========================================================================================================\n",
       "\"\"\""
      ]
     },
     "execution_count": 14,
     "metadata": {},
     "output_type": "execute_result"
    }
   ],
   "source": [
    "# get column names\n",
    "col_names= list(X_train.columns)\n",
    "col_names.insert(0, \"coeff\")\n",
    "\n",
    "# let's look at summary output \n",
    "model.summary(xname= col_names)"
   ]
  },
  {
   "cell_type": "code",
   "execution_count": 15,
   "id": "50cd97da",
   "metadata": {},
   "outputs": [
    {
     "name": "stdout",
     "output_type": "stream",
     "text": [
      "coeff : -0.40568580842285856\n",
      "voted_year_b4_eday : -0.033998713038654316\n",
      "voted_in_cycle_primary : 38.71664710501061\n",
      "voted_early_prior_to_in_cycle_general : 2.6092423488156293\n",
      "voted_in_cycle_primary_runoff : -0.1095149539156015\n",
      "age_group_Age 26 - 40 : 1.4664531748771101\n",
      "age_group_Age 41 - 65 : 1.699757286893867\n",
      "age_group_Age Over 66 : 2.9597772351624876\n",
      "ethnic_code_UN : -0.6819988500690537\n",
      "party_cd_UNA : -0.7686316314054725\n",
      "in_cycle_reg : 4.383741019317127\n",
      "turnout_pct : 23.853253510069383\n"
     ]
    }
   ],
   "source": [
    "# only print coefficennts with significant pvalues, i..e have an impact on turnout \n",
    "# these are the features which have significant coefficents \n",
    "# also included direction, so if negative this means a decrease in odds of turnout! \n",
    "\n",
    "# exponentiate values so can interpret via odds \n",
    "coeff_vals= np.exp(model.params)\n",
    "\n",
    "# let's pull p values too \n",
    "p_vals= model.pvalues\n",
    "\n",
    "# (https://stats.stackexchange.com/questions/412668/how-to-interpret-a-negative-coefficient-in-logistic-regression) \n",
    "for i in range(len(col_names)): \n",
    "    if p_vals[i] <=.005:\n",
    "        if model.params[i] >= 0 : \n",
    "            print(col_names[i] + \" : \" + str(coeff_vals[i]))\n",
    "        if model.params[i] < 0 : \n",
    "            print(col_names[i] + \" : -\" + str(coeff_vals[i]))\n",
    "            \n",
    "# interp: voting in-cycle primary leads to an increase in odds of general election turnout by 32.8\n",
    "# interp: voting year before election day leads to decrease in odds in turnout [this is against expectations, possibly due to lack of midterm data]\n",
    "# interp: registering incycle increase odds of turnout by 4 \n",
    "# interp: a one-unit increase in turnout percentage within your precinct leads to odds increase of 21 of turnout!\n",
    "# interp: voting early prior to in cycle general leads to increase of 2.6 \n"
   ]
  },
  {
   "cell_type": "code",
   "execution_count": 16,
   "id": "97e67b3d",
   "metadata": {},
   "outputs": [],
   "source": [
    "# so for logistic regression we can also predict on our \"training\" data to see how well we did -- one way to eval model \n",
    "predicted_probabilities = model.predict(sm.add_constant(X_train[list(X_train.columns)]))"
   ]
  },
  {
   "cell_type": "code",
   "execution_count": 17,
   "id": "7c711fdf",
   "metadata": {},
   "outputs": [],
   "source": [
    "y_pred= predicted_probabilities > .5\n",
    "y_pred= y_pred.astype(int)"
   ]
  },
  {
   "cell_type": "code",
   "execution_count": 18,
   "id": "3933d227",
   "metadata": {},
   "outputs": [
    {
     "name": "stdout",
     "output_type": "stream",
     "text": [
      "              precision    recall  f1-score   support\n",
      "\n",
      "           0       0.94      0.80      0.87     25167\n",
      "           1       0.92      0.98      0.95     61503\n",
      "\n",
      "    accuracy                           0.93     86670\n",
      "   macro avg       0.93      0.89      0.91     86670\n",
      "weighted avg       0.93      0.93      0.93     86670\n",
      "\n"
     ]
    }
   ],
   "source": [
    "print(classification_report(y_train, y_pred))"
   ]
  },
  {
   "cell_type": "code",
   "execution_count": 19,
   "id": "7b4ff552",
   "metadata": {},
   "outputs": [],
   "source": [
    "def table(predicted_probs, labels, cutoff):\n",
    "    \"\"\" Replacement for R's table funcion. \"\"\"\n",
    "    predicted_outcome = (predicted_probs > cutoff).astype(int)\n",
    "    df = pd.DataFrame({\"predicted_outcome\": predicted_outcome, \"actual_outcome\": labels})\n",
    "    return pd.crosstab(index=df[\"actual_outcome\"], columns=df[\"predicted_outcome\"], margins=False)"
   ]
  },
  {
   "cell_type": "code",
   "execution_count": 20,
   "id": "cae903c3",
   "metadata": {},
   "outputs": [
    {
     "data": {
      "text/html": [
       "<div>\n",
       "<style scoped>\n",
       "    .dataframe tbody tr th:only-of-type {\n",
       "        vertical-align: middle;\n",
       "    }\n",
       "\n",
       "    .dataframe tbody tr th {\n",
       "        vertical-align: top;\n",
       "    }\n",
       "\n",
       "    .dataframe thead th {\n",
       "        text-align: right;\n",
       "    }\n",
       "</style>\n",
       "<table border=\"1\" class=\"dataframe\">\n",
       "  <thead>\n",
       "    <tr style=\"text-align: right;\">\n",
       "      <th>predicted_outcome</th>\n",
       "      <th>0</th>\n",
       "      <th>1</th>\n",
       "    </tr>\n",
       "    <tr>\n",
       "      <th>actual_outcome</th>\n",
       "      <th></th>\n",
       "      <th></th>\n",
       "    </tr>\n",
       "  </thead>\n",
       "  <tbody>\n",
       "    <tr>\n",
       "      <th>0</th>\n",
       "      <td>20228</td>\n",
       "      <td>4939</td>\n",
       "    </tr>\n",
       "    <tr>\n",
       "      <th>1</th>\n",
       "      <td>1263</td>\n",
       "      <td>60240</td>\n",
       "    </tr>\n",
       "  </tbody>\n",
       "</table>\n",
       "</div>"
      ],
      "text/plain": [
       "predicted_outcome      0      1\n",
       "actual_outcome                 \n",
       "0                  20228   4939\n",
       "1                   1263  60240"
      ]
     },
     "execution_count": 20,
     "metadata": {},
     "output_type": "execute_result"
    }
   ],
   "source": [
    "table(predicted_probabilities, y_train, cutoff=0.5)"
   ]
  },
  {
   "cell_type": "code",
   "execution_count": 21,
   "id": "6209a5dc",
   "metadata": {},
   "outputs": [],
   "source": [
    "# new test on 2020, read in 2020 data! \n",
    "\n",
    "df2= pd.read_csv(\"alamance_2020_vf_data.csv\")\n"
   ]
  },
  {
   "cell_type": "code",
   "execution_count": 22,
   "id": "a54a789a",
   "metadata": {},
   "outputs": [],
   "source": [
    "df2_encoded = pd.get_dummies(df2, columns=variables_to_one_hot_encode, drop_first=True)\n",
    "\n",
    "# create variable which is if voted in election in past year (2015 for 2016, 2019 for 2020)\n",
    "df2_encoded['2019_g']= df2_encoded['2019_g'].astype(bool)\n",
    "df2_encoded['2019_o']= df2_encoded['2019_o'].astype(bool)\n",
    "\n",
    "df2_encoded['voted_year_b4_eday'] = (df2_encoded['2019_g'] | df2_encoded['2019_o'])\n"
   ]
  },
  {
   "cell_type": "code",
   "execution_count": 23,
   "id": "c6010e70",
   "metadata": {},
   "outputs": [],
   "source": [
    "df2_encoded= df2_encoded.rename(columns={'2020_p' :'voted_in_cycle_primary', \n",
    "                                       '2020_pr': 'voted_in_cycle_primary_runoff', \n",
    "                                       'voted_early_prior_to_2020_g': 'voted_early_prior_to_in_cycle_general'})\n"
   ]
  },
  {
   "cell_type": "code",
   "execution_count": 24,
   "id": "cd772a3b",
   "metadata": {},
   "outputs": [],
   "source": [
    "feature_cols = ['voted_year_b4_eday', 'voted_in_cycle_primary', 'voted_early_prior_to_in_cycle_general', 'voted_in_cycle_primary_runoff',\n",
    "       'race_code_B', 'race_code_I', 'race_code_M', 'race_code_O',\n",
    "       'race_code_U', 'race_code_W', 'ethnic_code_NL', 'ethnic_code_UN',\n",
    "       'party_cd_LIB', 'party_cd_REP', 'party_cd_UNA', 'sex_code_M',\n",
    "       'sex_code_U', 'age_group_Age 26 - 40', 'age_group_Age 41 - 65',\n",
    "       'age_group_Age Over 66', 'in_cycle_reg', 'turnout_pct'] \n",
    "X_test = df2_encoded[feature_cols] # Features\n",
    "y_test = df2_encoded['2020_g'] # Target variable"
   ]
  },
  {
   "cell_type": "code",
   "execution_count": 25,
   "id": "f10088e4",
   "metadata": {},
   "outputs": [
    {
     "name": "stderr",
     "output_type": "stream",
     "text": [
      "/var/folders/09/l3m63nj90fg1l2jshjp_hd5w0000gn/T/ipykernel_52796/2670848330.py:1: SettingWithCopyWarning: \n",
      "A value is trying to be set on a copy of a slice from a DataFrame\n",
      "\n",
      "See the caveats in the documentation: https://pandas.pydata.org/pandas-docs/stable/user_guide/indexing.html#returning-a-view-versus-a-copy\n",
      "  X_test['voted_early_prior_to_in_cycle_general'].fillna(0, inplace=True)\n",
      "/var/folders/09/l3m63nj90fg1l2jshjp_hd5w0000gn/T/ipykernel_52796/2670848330.py:2: SettingWithCopyWarning: \n",
      "A value is trying to be set on a copy of a slice from a DataFrame\n",
      "\n",
      "See the caveats in the documentation: https://pandas.pydata.org/pandas-docs/stable/user_guide/indexing.html#returning-a-view-versus-a-copy\n",
      "  X_test['voted_in_cycle_primary'].fillna(0, inplace=True)\n",
      "/var/folders/09/l3m63nj90fg1l2jshjp_hd5w0000gn/T/ipykernel_52796/2670848330.py:3: SettingWithCopyWarning: \n",
      "A value is trying to be set on a copy of a slice from a DataFrame\n",
      "\n",
      "See the caveats in the documentation: https://pandas.pydata.org/pandas-docs/stable/user_guide/indexing.html#returning-a-view-versus-a-copy\n",
      "  X_test['voted_in_cycle_primary_runoff'].fillna(.5, inplace=True)\n"
     ]
    }
   ],
   "source": [
    "X_test['voted_early_prior_to_in_cycle_general'].fillna(0, inplace=True)\n",
    "X_test['voted_in_cycle_primary'].fillna(0, inplace=True)\n",
    "X_test['voted_in_cycle_primary_runoff'].fillna(.5, inplace=True)\n"
   ]
  },
  {
   "cell_type": "code",
   "execution_count": 26,
   "id": "73d22c64",
   "metadata": {},
   "outputs": [],
   "source": [
    "y_test.fillna(0, inplace=True)"
   ]
  },
  {
   "cell_type": "code",
   "execution_count": 27,
   "id": "862d45ea",
   "metadata": {},
   "outputs": [
    {
     "name": "stderr",
     "output_type": "stream",
     "text": [
      "/var/folders/09/l3m63nj90fg1l2jshjp_hd5w0000gn/T/ipykernel_52796/1022703458.py:1: SettingWithCopyWarning: \n",
      "A value is trying to be set on a copy of a slice from a DataFrame\n",
      "\n",
      "See the caveats in the documentation: https://pandas.pydata.org/pandas-docs/stable/user_guide/indexing.html#returning-a-view-versus-a-copy\n",
      "  X_test.fillna(X_test['turnout_pct'].mean(), inplace=True)\n"
     ]
    }
   ],
   "source": [
    "X_test.fillna(X_test['turnout_pct'].mean(), inplace=True)"
   ]
  },
  {
   "cell_type": "code",
   "execution_count": 28,
   "id": "43223df7",
   "metadata": {},
   "outputs": [
    {
     "name": "stderr",
     "output_type": "stream",
     "text": [
      "/var/folders/09/l3m63nj90fg1l2jshjp_hd5w0000gn/T/ipykernel_52796/1443878231.py:7: SettingWithCopyWarning: \n",
      "A value is trying to be set on a copy of a slice from a DataFrame.\n",
      "Try using .loc[row_indexer,col_indexer] = value instead\n",
      "\n",
      "See the caveats in the documentation: https://pandas.pydata.org/pandas-docs/stable/user_guide/indexing.html#returning-a-view-versus-a-copy\n",
      "  X_test[cols]= X_test[cols].astype(int)\n"
     ]
    }
   ],
   "source": [
    "cols= ['voted_year_b4_eday', 'race_code_B', 'race_code_I',\n",
    "       'race_code_M', 'race_code_O', 'race_code_U', 'race_code_W',\n",
    "       'ethnic_code_NL', 'ethnic_code_UN', 'party_cd_LIB', 'party_cd_REP',\n",
    "       'party_cd_UNA', 'sex_code_M', 'sex_code_U', 'age_group_Age 26 - 40', 'age_group_Age 41 - 65',\n",
    "       'age_group_Age Over 66', 'in_cycle_reg']\n",
    "\n",
    "X_test[cols]= X_test[cols].astype(int)"
   ]
  },
  {
   "cell_type": "code",
   "execution_count": 29,
   "id": "7b6420a4",
   "metadata": {},
   "outputs": [],
   "source": [
    "predicted_probabilities_2020= model.predict(sm.add_constant(X_test[list(X_test.columns)]))"
   ]
  },
  {
   "cell_type": "code",
   "execution_count": 30,
   "id": "0e0cb16b",
   "metadata": {},
   "outputs": [],
   "source": [
    "y_pred= predicted_probabilities_2020 > .5\n",
    "y_pred= y_pred.astype(int)"
   ]
  },
  {
   "cell_type": "code",
   "execution_count": 31,
   "id": "6f8122ec",
   "metadata": {},
   "outputs": [
    {
     "name": "stdout",
     "output_type": "stream",
     "text": [
      "              precision    recall  f1-score   support\n",
      "\n",
      "         0.0       0.96      0.71      0.82     23653\n",
      "         1.0       0.92      0.99      0.95     78569\n",
      "\n",
      "    accuracy                           0.93    102222\n",
      "   macro avg       0.94      0.85      0.88    102222\n",
      "weighted avg       0.93      0.93      0.92    102222\n",
      "\n"
     ]
    }
   ],
   "source": [
    "print(classification_report(y_test, y_pred))"
   ]
  },
  {
   "cell_type": "code",
   "execution_count": 32,
   "id": "80147429",
   "metadata": {},
   "outputs": [
    {
     "data": {
      "text/html": [
       "<div>\n",
       "<style scoped>\n",
       "    .dataframe tbody tr th:only-of-type {\n",
       "        vertical-align: middle;\n",
       "    }\n",
       "\n",
       "    .dataframe tbody tr th {\n",
       "        vertical-align: top;\n",
       "    }\n",
       "\n",
       "    .dataframe thead th {\n",
       "        text-align: right;\n",
       "    }\n",
       "</style>\n",
       "<table border=\"1\" class=\"dataframe\">\n",
       "  <thead>\n",
       "    <tr style=\"text-align: right;\">\n",
       "      <th>predicted_outcome</th>\n",
       "      <th>0</th>\n",
       "      <th>1</th>\n",
       "    </tr>\n",
       "    <tr>\n",
       "      <th>actual_outcome</th>\n",
       "      <th></th>\n",
       "      <th></th>\n",
       "    </tr>\n",
       "  </thead>\n",
       "  <tbody>\n",
       "    <tr>\n",
       "      <th>0.0</th>\n",
       "      <td>16707</td>\n",
       "      <td>6946</td>\n",
       "    </tr>\n",
       "    <tr>\n",
       "      <th>1.0</th>\n",
       "      <td>614</td>\n",
       "      <td>77955</td>\n",
       "    </tr>\n",
       "  </tbody>\n",
       "</table>\n",
       "</div>"
      ],
      "text/plain": [
       "predicted_outcome      0      1\n",
       "actual_outcome                 \n",
       "0.0                16707   6946\n",
       "1.0                  614  77955"
      ]
     },
     "execution_count": 32,
     "metadata": {},
     "output_type": "execute_result"
    }
   ],
   "source": [
    "table(predicted_probabilities_2020, y_test, cutoff=0.5)"
   ]
  },
  {
   "cell_type": "code",
   "execution_count": 33,
   "id": "cecf82c3",
   "metadata": {},
   "outputs": [
    {
     "data": {
      "image/png": "[encoded data removed]",
      "text/plain": [
       "<Figure size 640x480 with 1 Axes>"
      ]
     },
     "metadata": {},
     "output_type": "display_data"
    }
   ],
   "source": [
    "# let's look at ROC too\n",
    "fpr, tpr, _ = metrics.roc_curve(y_test,  predicted_probabilities_2020)\n",
    "auc = metrics.roc_auc_score(y_test,  predicted_probabilities_2020)\n",
    "\n",
    "#create ROC curve\n",
    "plt.plot(fpr,tpr, label=\"AUC=\"+str(auc))\n",
    "plt.ylabel('True Positive Rate')\n",
    "plt.xlabel('False Positive Rate')\n",
    "plt.legend(loc=4)\n",
    "plt.show()\n",
    "\n",
    "#https://www.statology.org/plot-roc-curve-python/"
   ]
  },
  {
   "cell_type": "code",
   "execution_count": null,
   "id": "550f1a0d",
   "metadata": {},
   "outputs": [],
   "source": []
  },
  {
   "cell_type": "code",
   "execution_count": null,
   "id": "ed89cfec",
   "metadata": {},
   "outputs": [],
   "source": []
  },
  {
   "cell_type": "code",
   "execution_count": null,
   "id": "907a38e2",
   "metadata": {},
   "outputs": [],
   "source": []
  }
 ],
 "metadata": {
  "kernelspec": {
   "display_name": "Python 3 (ipykernel)",
   "language": "python",
   "name": "python3"
  },
  "language_info": {
   "codemirror_mode": {
    "name": "ipython",
    "version": 3
   },
   "file_extension": ".py",
   "mimetype": "text/x-python",
   "name": "python",
   "nbconvert_exporter": "python",
   "pygments_lexer": "ipython3",
   "version": "3.11.5"
  }
 },
 "nbformat": 4,
 "nbformat_minor": 5
}
